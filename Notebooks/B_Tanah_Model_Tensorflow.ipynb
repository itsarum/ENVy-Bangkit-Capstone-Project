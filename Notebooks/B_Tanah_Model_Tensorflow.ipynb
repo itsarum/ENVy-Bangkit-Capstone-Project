{
  "nbformat": 4,
  "nbformat_minor": 0,
  "metadata": {
    "colab": {
      "provenance": [],
      "toc_visible": true
    },
    "kernelspec": {
      "name": "python3",
      "display_name": "Python 3"
    },
    "language_info": {
      "name": "python"
    }
  },
  "cells": [
    {
      "cell_type": "markdown",
      "source": [
        "# Preparation\n"
      ],
      "metadata": {
        "id": "sRW9BhKc6SaX"
      }
    },
    {
      "cell_type": "markdown",
      "source": [
        "## Import Library"
      ],
      "metadata": {
        "id": "ZStla-YcuOfc"
      }
    },
    {
      "cell_type": "code",
      "source": [
        "import numpy as np\n",
        "import pandas as pd\n",
        "from sklearn.metrics import accuracy_score\n",
        "from sklearn.preprocessing import MinMaxScaler\n",
        "import matplotlib.pyplot as plt\n",
        "import seaborn as sns\n",
        "import tensorflow as tf\n",
        "from sklearn.model_selection import train_test_split\n",
        "from sklearn.preprocessing import LabelEncoder"
      ],
      "metadata": {
        "id": "xk9Nk7OskJpj"
      },
      "execution_count": null,
      "outputs": []
    },
    {
      "cell_type": "markdown",
      "source": [
        "## Import Data\n"
      ],
      "metadata": {
        "id": "fIRZJDxkuPag"
      }
    },
    {
      "cell_type": "code",
      "execution_count": null,
      "metadata": {
        "colab": {
          "base_uri": "https://localhost:8080/",
          "height": 206
        },
        "id": "87KkCKeQjulV",
        "outputId": "f00778eb-1a0a-4f92-bd2a-17fdd13ab50e"
      },
      "outputs": [
        {
          "output_type": "execute_result",
          "data": {
            "text/plain": [
              "   Nitrogen  phosphorus  potassium        ph Label Kualitas,\n",
              "0        90          42         43  6.502985    Kurang Sehat\n",
              "1        85          58         41  7.038096    Kurang Sehat\n",
              "2        60          55         44  7.840207    Kurang Sehat\n",
              "3        74          35         40  6.980401    Kurang Sehat\n",
              "4        78          42         42  7.628473    Kurang Sehat"
            ],
            "text/html": [
              "\n",
              "  <div id=\"df-6cdb1bb4-e7ff-4c02-a14e-d6c21510cfea\">\n",
              "    <div class=\"colab-df-container\">\n",
              "      <div>\n",
              "<style scoped>\n",
              "    .dataframe tbody tr th:only-of-type {\n",
              "        vertical-align: middle;\n",
              "    }\n",
              "\n",
              "    .dataframe tbody tr th {\n",
              "        vertical-align: top;\n",
              "    }\n",
              "\n",
              "    .dataframe thead th {\n",
              "        text-align: right;\n",
              "    }\n",
              "</style>\n",
              "<table border=\"1\" class=\"dataframe\">\n",
              "  <thead>\n",
              "    <tr style=\"text-align: right;\">\n",
              "      <th></th>\n",
              "      <th>Nitrogen</th>\n",
              "      <th>phosphorus</th>\n",
              "      <th>potassium</th>\n",
              "      <th>ph</th>\n",
              "      <th>Label Kualitas,</th>\n",
              "    </tr>\n",
              "  </thead>\n",
              "  <tbody>\n",
              "    <tr>\n",
              "      <th>0</th>\n",
              "      <td>90</td>\n",
              "      <td>42</td>\n",
              "      <td>43</td>\n",
              "      <td>6.502985</td>\n",
              "      <td>Kurang Sehat</td>\n",
              "    </tr>\n",
              "    <tr>\n",
              "      <th>1</th>\n",
              "      <td>85</td>\n",
              "      <td>58</td>\n",
              "      <td>41</td>\n",
              "      <td>7.038096</td>\n",
              "      <td>Kurang Sehat</td>\n",
              "    </tr>\n",
              "    <tr>\n",
              "      <th>2</th>\n",
              "      <td>60</td>\n",
              "      <td>55</td>\n",
              "      <td>44</td>\n",
              "      <td>7.840207</td>\n",
              "      <td>Kurang Sehat</td>\n",
              "    </tr>\n",
              "    <tr>\n",
              "      <th>3</th>\n",
              "      <td>74</td>\n",
              "      <td>35</td>\n",
              "      <td>40</td>\n",
              "      <td>6.980401</td>\n",
              "      <td>Kurang Sehat</td>\n",
              "    </tr>\n",
              "    <tr>\n",
              "      <th>4</th>\n",
              "      <td>78</td>\n",
              "      <td>42</td>\n",
              "      <td>42</td>\n",
              "      <td>7.628473</td>\n",
              "      <td>Kurang Sehat</td>\n",
              "    </tr>\n",
              "  </tbody>\n",
              "</table>\n",
              "</div>\n",
              "      <button class=\"colab-df-convert\" onclick=\"convertToInteractive('df-6cdb1bb4-e7ff-4c02-a14e-d6c21510cfea')\"\n",
              "              title=\"Convert this dataframe to an interactive table.\"\n",
              "              style=\"display:none;\">\n",
              "        \n",
              "  <svg xmlns=\"http://www.w3.org/2000/svg\" height=\"24px\"viewBox=\"0 0 24 24\"\n",
              "       width=\"24px\">\n",
              "    <path d=\"M0 0h24v24H0V0z\" fill=\"none\"/>\n",
              "    <path d=\"M18.56 5.44l.94 2.06.94-2.06 2.06-.94-2.06-.94-.94-2.06-.94 2.06-2.06.94zm-11 1L8.5 8.5l.94-2.06 2.06-.94-2.06-.94L8.5 2.5l-.94 2.06-2.06.94zm10 10l.94 2.06.94-2.06 2.06-.94-2.06-.94-.94-2.06-.94 2.06-2.06.94z\"/><path d=\"M17.41 7.96l-1.37-1.37c-.4-.4-.92-.59-1.43-.59-.52 0-1.04.2-1.43.59L10.3 9.45l-7.72 7.72c-.78.78-.78 2.05 0 2.83L4 21.41c.39.39.9.59 1.41.59.51 0 1.02-.2 1.41-.59l7.78-7.78 2.81-2.81c.8-.78.8-2.07 0-2.86zM5.41 20L4 18.59l7.72-7.72 1.47 1.35L5.41 20z\"/>\n",
              "  </svg>\n",
              "      </button>\n",
              "      \n",
              "  <style>\n",
              "    .colab-df-container {\n",
              "      display:flex;\n",
              "      flex-wrap:wrap;\n",
              "      gap: 12px;\n",
              "    }\n",
              "\n",
              "    .colab-df-convert {\n",
              "      background-color: #E8F0FE;\n",
              "      border: none;\n",
              "      border-radius: 50%;\n",
              "      cursor: pointer;\n",
              "      display: none;\n",
              "      fill: #1967D2;\n",
              "      height: 32px;\n",
              "      padding: 0 0 0 0;\n",
              "      width: 32px;\n",
              "    }\n",
              "\n",
              "    .colab-df-convert:hover {\n",
              "      background-color: #E2EBFA;\n",
              "      box-shadow: 0px 1px 2px rgba(60, 64, 67, 0.3), 0px 1px 3px 1px rgba(60, 64, 67, 0.15);\n",
              "      fill: #174EA6;\n",
              "    }\n",
              "\n",
              "    [theme=dark] .colab-df-convert {\n",
              "      background-color: #3B4455;\n",
              "      fill: #D2E3FC;\n",
              "    }\n",
              "\n",
              "    [theme=dark] .colab-df-convert:hover {\n",
              "      background-color: #434B5C;\n",
              "      box-shadow: 0px 1px 3px 1px rgba(0, 0, 0, 0.15);\n",
              "      filter: drop-shadow(0px 1px 2px rgba(0, 0, 0, 0.3));\n",
              "      fill: #FFFFFF;\n",
              "    }\n",
              "  </style>\n",
              "\n",
              "      <script>\n",
              "        const buttonEl =\n",
              "          document.querySelector('#df-6cdb1bb4-e7ff-4c02-a14e-d6c21510cfea button.colab-df-convert');\n",
              "        buttonEl.style.display =\n",
              "          google.colab.kernel.accessAllowed ? 'block' : 'none';\n",
              "\n",
              "        async function convertToInteractive(key) {\n",
              "          const element = document.querySelector('#df-6cdb1bb4-e7ff-4c02-a14e-d6c21510cfea');\n",
              "          const dataTable =\n",
              "            await google.colab.kernel.invokeFunction('convertToInteractive',\n",
              "                                                     [key], {});\n",
              "          if (!dataTable) return;\n",
              "\n",
              "          const docLinkHtml = 'Like what you see? Visit the ' +\n",
              "            '<a target=\"_blank\" href=https://colab.research.google.com/notebooks/data_table.ipynb>data table notebook</a>'\n",
              "            + ' to learn more about interactive tables.';\n",
              "          element.innerHTML = '';\n",
              "          dataTable['output_type'] = 'display_data';\n",
              "          await google.colab.output.renderOutput(dataTable, element);\n",
              "          const docLink = document.createElement('div');\n",
              "          docLink.innerHTML = docLinkHtml;\n",
              "          element.appendChild(docLink);\n",
              "        }\n",
              "      </script>\n",
              "    </div>\n",
              "  </div>\n",
              "  "
            ]
          },
          "metadata": {},
          "execution_count": 5
        }
      ],
      "source": [
        "Kualitas_Tanah = \"/content/Dataset Kualitas Tanah.csv\"\n",
        "Kualitas_Tanah = pd.read_csv(Kualitas_Tanah, delimiter=';', decimal=',')\n",
        "Kualitas_Tanah.head ()"
      ]
    },
    {
      "cell_type": "markdown",
      "source": [
        "## Mengubah ke String"
      ],
      "metadata": {
        "id": "P2efXSdP8Kr8"
      }
    },
    {
      "cell_type": "code",
      "source": [
        "df_cleaned = Kualitas_Tanah.astype(str) \n",
        "df_cleaned.info()"
      ],
      "metadata": {
        "colab": {
          "base_uri": "https://localhost:8080/"
        },
        "id": "y3877e7nkIu9",
        "outputId": "4bfc9051-53f1-4696-e621-2edbee5b8547"
      },
      "execution_count": null,
      "outputs": [
        {
          "output_type": "stream",
          "name": "stdout",
          "text": [
            "<class 'pandas.core.frame.DataFrame'>\n",
            "RangeIndex: 2200 entries, 0 to 2199\n",
            "Data columns (total 5 columns):\n",
            " #   Column           Non-Null Count  Dtype \n",
            "---  ------           --------------  ----- \n",
            " 0   Nitrogen         2200 non-null   object\n",
            " 1   phosphorus       2200 non-null   object\n",
            " 2   potassium        2200 non-null   object\n",
            " 3   ph               2200 non-null   object\n",
            " 4   Label Kualitas,  2200 non-null   object\n",
            "dtypes: object(5)\n",
            "memory usage: 86.1+ KB\n"
          ]
        }
      ]
    },
    {
      "cell_type": "markdown",
      "source": [
        "## Mengubah Type Data\n"
      ],
      "metadata": {
        "id": "aIOVUNh_8BTw"
      }
    },
    {
      "cell_type": "code",
      "source": [
        "#Parsing int64\n",
        "df_cleaned = df_cleaned.astype({'Nitrogen': int, 'phosphorus': int, \n",
        "                                'potassium': int, 'ph': float})\n",
        "\n",
        "df_cleaned.info()"
      ],
      "metadata": {
        "colab": {
          "base_uri": "https://localhost:8080/"
        },
        "id": "3IHgkqOClhm5",
        "outputId": "625ab17b-9bc3-46c6-84ce-76244798c6f0"
      },
      "execution_count": null,
      "outputs": [
        {
          "output_type": "stream",
          "name": "stdout",
          "text": [
            "<class 'pandas.core.frame.DataFrame'>\n",
            "RangeIndex: 2200 entries, 0 to 2199\n",
            "Data columns (total 5 columns):\n",
            " #   Column           Non-Null Count  Dtype  \n",
            "---  ------           --------------  -----  \n",
            " 0   Nitrogen         2200 non-null   int64  \n",
            " 1   phosphorus       2200 non-null   int64  \n",
            " 2   potassium        2200 non-null   int64  \n",
            " 3   ph               2200 non-null   float64\n",
            " 4   Label Kualitas,  2200 non-null   object \n",
            "dtypes: float64(1), int64(3), object(1)\n",
            "memory usage: 86.1+ KB\n"
          ]
        }
      ]
    },
    {
      "cell_type": "markdown",
      "source": [
        "## Mengganti Value Label (Label Kualitas,)"
      ],
      "metadata": {
        "id": "SxPLNk1p84PO"
      }
    },
    {
      "cell_type": "code",
      "source": [
        "df_cleaned = df_cleaned.replace('Tidak Sehat', 0)\n",
        "df_cleaned = df_cleaned.replace('Kurang Sehat', 1)\n",
        "df_cleaned = df_cleaned.replace('Sehat', 2)\n",
        "\n",
        "\n",
        "df_cleaned"
      ],
      "metadata": {
        "colab": {
          "base_uri": "https://localhost:8080/",
          "height": 424
        },
        "id": "i3yO6Py7rTmc",
        "outputId": "d887f392-0f58-46f1-d058-c0981c4ee353"
      },
      "execution_count": null,
      "outputs": [
        {
          "output_type": "execute_result",
          "data": {
            "text/plain": [
              "      Nitrogen  phosphorus  potassium        ph  Label Kualitas,\n",
              "0           90          42         43  6.502985                1\n",
              "1           85          58         41  7.038096                1\n",
              "2           60          55         44  7.840207                1\n",
              "3           74          35         40  6.980401                1\n",
              "4           78          42         42  7.628473                1\n",
              "...        ...         ...        ...       ...              ...\n",
              "2195       107          34         32  6.780064                1\n",
              "2196        99          15         27  6.086922                0\n",
              "2197       118          33         30  6.362608                1\n",
              "2198       117          32         34  6.758793                1\n",
              "2199       104          18         30  6.779833                1\n",
              "\n",
              "[2200 rows x 5 columns]"
            ],
            "text/html": [
              "\n",
              "  <div id=\"df-75a464f2-efc1-4244-a744-45d5da2b5d0f\">\n",
              "    <div class=\"colab-df-container\">\n",
              "      <div>\n",
              "<style scoped>\n",
              "    .dataframe tbody tr th:only-of-type {\n",
              "        vertical-align: middle;\n",
              "    }\n",
              "\n",
              "    .dataframe tbody tr th {\n",
              "        vertical-align: top;\n",
              "    }\n",
              "\n",
              "    .dataframe thead th {\n",
              "        text-align: right;\n",
              "    }\n",
              "</style>\n",
              "<table border=\"1\" class=\"dataframe\">\n",
              "  <thead>\n",
              "    <tr style=\"text-align: right;\">\n",
              "      <th></th>\n",
              "      <th>Nitrogen</th>\n",
              "      <th>phosphorus</th>\n",
              "      <th>potassium</th>\n",
              "      <th>ph</th>\n",
              "      <th>Label Kualitas,</th>\n",
              "    </tr>\n",
              "  </thead>\n",
              "  <tbody>\n",
              "    <tr>\n",
              "      <th>0</th>\n",
              "      <td>90</td>\n",
              "      <td>42</td>\n",
              "      <td>43</td>\n",
              "      <td>6.502985</td>\n",
              "      <td>1</td>\n",
              "    </tr>\n",
              "    <tr>\n",
              "      <th>1</th>\n",
              "      <td>85</td>\n",
              "      <td>58</td>\n",
              "      <td>41</td>\n",
              "      <td>7.038096</td>\n",
              "      <td>1</td>\n",
              "    </tr>\n",
              "    <tr>\n",
              "      <th>2</th>\n",
              "      <td>60</td>\n",
              "      <td>55</td>\n",
              "      <td>44</td>\n",
              "      <td>7.840207</td>\n",
              "      <td>1</td>\n",
              "    </tr>\n",
              "    <tr>\n",
              "      <th>3</th>\n",
              "      <td>74</td>\n",
              "      <td>35</td>\n",
              "      <td>40</td>\n",
              "      <td>6.980401</td>\n",
              "      <td>1</td>\n",
              "    </tr>\n",
              "    <tr>\n",
              "      <th>4</th>\n",
              "      <td>78</td>\n",
              "      <td>42</td>\n",
              "      <td>42</td>\n",
              "      <td>7.628473</td>\n",
              "      <td>1</td>\n",
              "    </tr>\n",
              "    <tr>\n",
              "      <th>...</th>\n",
              "      <td>...</td>\n",
              "      <td>...</td>\n",
              "      <td>...</td>\n",
              "      <td>...</td>\n",
              "      <td>...</td>\n",
              "    </tr>\n",
              "    <tr>\n",
              "      <th>2195</th>\n",
              "      <td>107</td>\n",
              "      <td>34</td>\n",
              "      <td>32</td>\n",
              "      <td>6.780064</td>\n",
              "      <td>1</td>\n",
              "    </tr>\n",
              "    <tr>\n",
              "      <th>2196</th>\n",
              "      <td>99</td>\n",
              "      <td>15</td>\n",
              "      <td>27</td>\n",
              "      <td>6.086922</td>\n",
              "      <td>0</td>\n",
              "    </tr>\n",
              "    <tr>\n",
              "      <th>2197</th>\n",
              "      <td>118</td>\n",
              "      <td>33</td>\n",
              "      <td>30</td>\n",
              "      <td>6.362608</td>\n",
              "      <td>1</td>\n",
              "    </tr>\n",
              "    <tr>\n",
              "      <th>2198</th>\n",
              "      <td>117</td>\n",
              "      <td>32</td>\n",
              "      <td>34</td>\n",
              "      <td>6.758793</td>\n",
              "      <td>1</td>\n",
              "    </tr>\n",
              "    <tr>\n",
              "      <th>2199</th>\n",
              "      <td>104</td>\n",
              "      <td>18</td>\n",
              "      <td>30</td>\n",
              "      <td>6.779833</td>\n",
              "      <td>1</td>\n",
              "    </tr>\n",
              "  </tbody>\n",
              "</table>\n",
              "<p>2200 rows × 5 columns</p>\n",
              "</div>\n",
              "      <button class=\"colab-df-convert\" onclick=\"convertToInteractive('df-75a464f2-efc1-4244-a744-45d5da2b5d0f')\"\n",
              "              title=\"Convert this dataframe to an interactive table.\"\n",
              "              style=\"display:none;\">\n",
              "        \n",
              "  <svg xmlns=\"http://www.w3.org/2000/svg\" height=\"24px\"viewBox=\"0 0 24 24\"\n",
              "       width=\"24px\">\n",
              "    <path d=\"M0 0h24v24H0V0z\" fill=\"none\"/>\n",
              "    <path d=\"M18.56 5.44l.94 2.06.94-2.06 2.06-.94-2.06-.94-.94-2.06-.94 2.06-2.06.94zm-11 1L8.5 8.5l.94-2.06 2.06-.94-2.06-.94L8.5 2.5l-.94 2.06-2.06.94zm10 10l.94 2.06.94-2.06 2.06-.94-2.06-.94-.94-2.06-.94 2.06-2.06.94z\"/><path d=\"M17.41 7.96l-1.37-1.37c-.4-.4-.92-.59-1.43-.59-.52 0-1.04.2-1.43.59L10.3 9.45l-7.72 7.72c-.78.78-.78 2.05 0 2.83L4 21.41c.39.39.9.59 1.41.59.51 0 1.02-.2 1.41-.59l7.78-7.78 2.81-2.81c.8-.78.8-2.07 0-2.86zM5.41 20L4 18.59l7.72-7.72 1.47 1.35L5.41 20z\"/>\n",
              "  </svg>\n",
              "      </button>\n",
              "      \n",
              "  <style>\n",
              "    .colab-df-container {\n",
              "      display:flex;\n",
              "      flex-wrap:wrap;\n",
              "      gap: 12px;\n",
              "    }\n",
              "\n",
              "    .colab-df-convert {\n",
              "      background-color: #E8F0FE;\n",
              "      border: none;\n",
              "      border-radius: 50%;\n",
              "      cursor: pointer;\n",
              "      display: none;\n",
              "      fill: #1967D2;\n",
              "      height: 32px;\n",
              "      padding: 0 0 0 0;\n",
              "      width: 32px;\n",
              "    }\n",
              "\n",
              "    .colab-df-convert:hover {\n",
              "      background-color: #E2EBFA;\n",
              "      box-shadow: 0px 1px 2px rgba(60, 64, 67, 0.3), 0px 1px 3px 1px rgba(60, 64, 67, 0.15);\n",
              "      fill: #174EA6;\n",
              "    }\n",
              "\n",
              "    [theme=dark] .colab-df-convert {\n",
              "      background-color: #3B4455;\n",
              "      fill: #D2E3FC;\n",
              "    }\n",
              "\n",
              "    [theme=dark] .colab-df-convert:hover {\n",
              "      background-color: #434B5C;\n",
              "      box-shadow: 0px 1px 3px 1px rgba(0, 0, 0, 0.15);\n",
              "      filter: drop-shadow(0px 1px 2px rgba(0, 0, 0, 0.3));\n",
              "      fill: #FFFFFF;\n",
              "    }\n",
              "  </style>\n",
              "\n",
              "      <script>\n",
              "        const buttonEl =\n",
              "          document.querySelector('#df-75a464f2-efc1-4244-a744-45d5da2b5d0f button.colab-df-convert');\n",
              "        buttonEl.style.display =\n",
              "          google.colab.kernel.accessAllowed ? 'block' : 'none';\n",
              "\n",
              "        async function convertToInteractive(key) {\n",
              "          const element = document.querySelector('#df-75a464f2-efc1-4244-a744-45d5da2b5d0f');\n",
              "          const dataTable =\n",
              "            await google.colab.kernel.invokeFunction('convertToInteractive',\n",
              "                                                     [key], {});\n",
              "          if (!dataTable) return;\n",
              "\n",
              "          const docLinkHtml = 'Like what you see? Visit the ' +\n",
              "            '<a target=\"_blank\" href=https://colab.research.google.com/notebooks/data_table.ipynb>data table notebook</a>'\n",
              "            + ' to learn more about interactive tables.';\n",
              "          element.innerHTML = '';\n",
              "          dataTable['output_type'] = 'display_data';\n",
              "          await google.colab.output.renderOutput(dataTable, element);\n",
              "          const docLink = document.createElement('div');\n",
              "          docLink.innerHTML = docLinkHtml;\n",
              "          element.appendChild(docLink);\n",
              "        }\n",
              "      </script>\n",
              "    </div>\n",
              "  </div>\n",
              "  "
            ]
          },
          "metadata": {},
          "execution_count": 8
        }
      ]
    },
    {
      "cell_type": "code",
      "source": [
        "Kualitas_Tanah = df_cleaned\n",
        "Kualitas_Tanah"
      ],
      "metadata": {
        "colab": {
          "base_uri": "https://localhost:8080/",
          "height": 424
        },
        "id": "C6Ndp72Wm4MN",
        "outputId": "4be84a5f-3792-49be-c541-f3a0ea9e5b97"
      },
      "execution_count": null,
      "outputs": [
        {
          "output_type": "execute_result",
          "data": {
            "text/plain": [
              "      Nitrogen  phosphorus  potassium        ph  Label Kualitas,\n",
              "0           90          42         43  6.502985                1\n",
              "1           85          58         41  7.038096                1\n",
              "2           60          55         44  7.840207                1\n",
              "3           74          35         40  6.980401                1\n",
              "4           78          42         42  7.628473                1\n",
              "...        ...         ...        ...       ...              ...\n",
              "2195       107          34         32  6.780064                1\n",
              "2196        99          15         27  6.086922                0\n",
              "2197       118          33         30  6.362608                1\n",
              "2198       117          32         34  6.758793                1\n",
              "2199       104          18         30  6.779833                1\n",
              "\n",
              "[2200 rows x 5 columns]"
            ],
            "text/html": [
              "\n",
              "  <div id=\"df-4175b0d1-f42d-403a-a0be-18c2e5a2a307\">\n",
              "    <div class=\"colab-df-container\">\n",
              "      <div>\n",
              "<style scoped>\n",
              "    .dataframe tbody tr th:only-of-type {\n",
              "        vertical-align: middle;\n",
              "    }\n",
              "\n",
              "    .dataframe tbody tr th {\n",
              "        vertical-align: top;\n",
              "    }\n",
              "\n",
              "    .dataframe thead th {\n",
              "        text-align: right;\n",
              "    }\n",
              "</style>\n",
              "<table border=\"1\" class=\"dataframe\">\n",
              "  <thead>\n",
              "    <tr style=\"text-align: right;\">\n",
              "      <th></th>\n",
              "      <th>Nitrogen</th>\n",
              "      <th>phosphorus</th>\n",
              "      <th>potassium</th>\n",
              "      <th>ph</th>\n",
              "      <th>Label Kualitas,</th>\n",
              "    </tr>\n",
              "  </thead>\n",
              "  <tbody>\n",
              "    <tr>\n",
              "      <th>0</th>\n",
              "      <td>90</td>\n",
              "      <td>42</td>\n",
              "      <td>43</td>\n",
              "      <td>6.502985</td>\n",
              "      <td>1</td>\n",
              "    </tr>\n",
              "    <tr>\n",
              "      <th>1</th>\n",
              "      <td>85</td>\n",
              "      <td>58</td>\n",
              "      <td>41</td>\n",
              "      <td>7.038096</td>\n",
              "      <td>1</td>\n",
              "    </tr>\n",
              "    <tr>\n",
              "      <th>2</th>\n",
              "      <td>60</td>\n",
              "      <td>55</td>\n",
              "      <td>44</td>\n",
              "      <td>7.840207</td>\n",
              "      <td>1</td>\n",
              "    </tr>\n",
              "    <tr>\n",
              "      <th>3</th>\n",
              "      <td>74</td>\n",
              "      <td>35</td>\n",
              "      <td>40</td>\n",
              "      <td>6.980401</td>\n",
              "      <td>1</td>\n",
              "    </tr>\n",
              "    <tr>\n",
              "      <th>4</th>\n",
              "      <td>78</td>\n",
              "      <td>42</td>\n",
              "      <td>42</td>\n",
              "      <td>7.628473</td>\n",
              "      <td>1</td>\n",
              "    </tr>\n",
              "    <tr>\n",
              "      <th>...</th>\n",
              "      <td>...</td>\n",
              "      <td>...</td>\n",
              "      <td>...</td>\n",
              "      <td>...</td>\n",
              "      <td>...</td>\n",
              "    </tr>\n",
              "    <tr>\n",
              "      <th>2195</th>\n",
              "      <td>107</td>\n",
              "      <td>34</td>\n",
              "      <td>32</td>\n",
              "      <td>6.780064</td>\n",
              "      <td>1</td>\n",
              "    </tr>\n",
              "    <tr>\n",
              "      <th>2196</th>\n",
              "      <td>99</td>\n",
              "      <td>15</td>\n",
              "      <td>27</td>\n",
              "      <td>6.086922</td>\n",
              "      <td>0</td>\n",
              "    </tr>\n",
              "    <tr>\n",
              "      <th>2197</th>\n",
              "      <td>118</td>\n",
              "      <td>33</td>\n",
              "      <td>30</td>\n",
              "      <td>6.362608</td>\n",
              "      <td>1</td>\n",
              "    </tr>\n",
              "    <tr>\n",
              "      <th>2198</th>\n",
              "      <td>117</td>\n",
              "      <td>32</td>\n",
              "      <td>34</td>\n",
              "      <td>6.758793</td>\n",
              "      <td>1</td>\n",
              "    </tr>\n",
              "    <tr>\n",
              "      <th>2199</th>\n",
              "      <td>104</td>\n",
              "      <td>18</td>\n",
              "      <td>30</td>\n",
              "      <td>6.779833</td>\n",
              "      <td>1</td>\n",
              "    </tr>\n",
              "  </tbody>\n",
              "</table>\n",
              "<p>2200 rows × 5 columns</p>\n",
              "</div>\n",
              "      <button class=\"colab-df-convert\" onclick=\"convertToInteractive('df-4175b0d1-f42d-403a-a0be-18c2e5a2a307')\"\n",
              "              title=\"Convert this dataframe to an interactive table.\"\n",
              "              style=\"display:none;\">\n",
              "        \n",
              "  <svg xmlns=\"http://www.w3.org/2000/svg\" height=\"24px\"viewBox=\"0 0 24 24\"\n",
              "       width=\"24px\">\n",
              "    <path d=\"M0 0h24v24H0V0z\" fill=\"none\"/>\n",
              "    <path d=\"M18.56 5.44l.94 2.06.94-2.06 2.06-.94-2.06-.94-.94-2.06-.94 2.06-2.06.94zm-11 1L8.5 8.5l.94-2.06 2.06-.94-2.06-.94L8.5 2.5l-.94 2.06-2.06.94zm10 10l.94 2.06.94-2.06 2.06-.94-2.06-.94-.94-2.06-.94 2.06-2.06.94z\"/><path d=\"M17.41 7.96l-1.37-1.37c-.4-.4-.92-.59-1.43-.59-.52 0-1.04.2-1.43.59L10.3 9.45l-7.72 7.72c-.78.78-.78 2.05 0 2.83L4 21.41c.39.39.9.59 1.41.59.51 0 1.02-.2 1.41-.59l7.78-7.78 2.81-2.81c.8-.78.8-2.07 0-2.86zM5.41 20L4 18.59l7.72-7.72 1.47 1.35L5.41 20z\"/>\n",
              "  </svg>\n",
              "      </button>\n",
              "      \n",
              "  <style>\n",
              "    .colab-df-container {\n",
              "      display:flex;\n",
              "      flex-wrap:wrap;\n",
              "      gap: 12px;\n",
              "    }\n",
              "\n",
              "    .colab-df-convert {\n",
              "      background-color: #E8F0FE;\n",
              "      border: none;\n",
              "      border-radius: 50%;\n",
              "      cursor: pointer;\n",
              "      display: none;\n",
              "      fill: #1967D2;\n",
              "      height: 32px;\n",
              "      padding: 0 0 0 0;\n",
              "      width: 32px;\n",
              "    }\n",
              "\n",
              "    .colab-df-convert:hover {\n",
              "      background-color: #E2EBFA;\n",
              "      box-shadow: 0px 1px 2px rgba(60, 64, 67, 0.3), 0px 1px 3px 1px rgba(60, 64, 67, 0.15);\n",
              "      fill: #174EA6;\n",
              "    }\n",
              "\n",
              "    [theme=dark] .colab-df-convert {\n",
              "      background-color: #3B4455;\n",
              "      fill: #D2E3FC;\n",
              "    }\n",
              "\n",
              "    [theme=dark] .colab-df-convert:hover {\n",
              "      background-color: #434B5C;\n",
              "      box-shadow: 0px 1px 3px 1px rgba(0, 0, 0, 0.15);\n",
              "      filter: drop-shadow(0px 1px 2px rgba(0, 0, 0, 0.3));\n",
              "      fill: #FFFFFF;\n",
              "    }\n",
              "  </style>\n",
              "\n",
              "      <script>\n",
              "        const buttonEl =\n",
              "          document.querySelector('#df-4175b0d1-f42d-403a-a0be-18c2e5a2a307 button.colab-df-convert');\n",
              "        buttonEl.style.display =\n",
              "          google.colab.kernel.accessAllowed ? 'block' : 'none';\n",
              "\n",
              "        async function convertToInteractive(key) {\n",
              "          const element = document.querySelector('#df-4175b0d1-f42d-403a-a0be-18c2e5a2a307');\n",
              "          const dataTable =\n",
              "            await google.colab.kernel.invokeFunction('convertToInteractive',\n",
              "                                                     [key], {});\n",
              "          if (!dataTable) return;\n",
              "\n",
              "          const docLinkHtml = 'Like what you see? Visit the ' +\n",
              "            '<a target=\"_blank\" href=https://colab.research.google.com/notebooks/data_table.ipynb>data table notebook</a>'\n",
              "            + ' to learn more about interactive tables.';\n",
              "          element.innerHTML = '';\n",
              "          dataTable['output_type'] = 'display_data';\n",
              "          await google.colab.output.renderOutput(dataTable, element);\n",
              "          const docLink = document.createElement('div');\n",
              "          docLink.innerHTML = docLinkHtml;\n",
              "          element.appendChild(docLink);\n",
              "        }\n",
              "      </script>\n",
              "    </div>\n",
              "  </div>\n",
              "  "
            ]
          },
          "metadata": {},
          "execution_count": 9
        }
      ]
    },
    {
      "cell_type": "markdown",
      "source": [
        "## Melihat Missing"
      ],
      "metadata": {
        "id": "PQp44blJ9QND"
      }
    },
    {
      "cell_type": "code",
      "source": [
        "# dalam dataset ini terdapat value kosong seperti \"---\", maka terlebih dahulu kita tanti dengan null\n",
        "Kualitas_Tanah = Kualitas_Tanah.replace('---', np.nan)\n",
        "Kualitas_Tanah = Kualitas_Tanah.replace('nan', np.nan)\n",
        "Kualitas_Tanah = Kualitas_Tanah.replace('TIDAK ADA DATA', np.nan)\n",
        "\n",
        "Kualitas_Tanah.isnull().sum()"
      ],
      "metadata": {
        "colab": {
          "base_uri": "https://localhost:8080/"
        },
        "id": "no83xFKh9Umw",
        "outputId": "826f21fe-c447-4491-920b-3684b6ba4dc6"
      },
      "execution_count": null,
      "outputs": [
        {
          "output_type": "execute_result",
          "data": {
            "text/plain": [
              "Nitrogen           0\n",
              "phosphorus         0\n",
              "potassium          0\n",
              "ph                 0\n",
              "Label Kualitas,    0\n",
              "dtype: int64"
            ]
          },
          "metadata": {},
          "execution_count": 10
        }
      ]
    },
    {
      "cell_type": "markdown",
      "source": [
        "## Mendeteksi Outlier"
      ],
      "metadata": {
        "id": "e9cMNRYz9hBZ"
      }
    },
    {
      "cell_type": "code",
      "source": [
        "import matplotlib.pyplot as plt\n",
        "import seaborn as sns\n",
        "fig, axes = plt.subplots(1, 5, figsize=(11.5, 3))\n",
        "count = 0\n",
        "axes = axes.flatten()\n",
        "\n",
        "for i, value in Kualitas_Tanah.items():\n",
        "    sns.boxplot(ax=axes[count], y=i, data=Kualitas_Tanah)\n",
        "    count += 1\n",
        "\n",
        "plt.tight_layout(pad=0.5, h_pad=3, w_pad=0.8)"
      ],
      "metadata": {
        "colab": {
          "base_uri": "https://localhost:8080/",
          "height": 266
        },
        "id": "2jZfMBvO-MbJ",
        "outputId": "ab3c6833-2c82-4468-f557-59ce5ada1db1"
      },
      "execution_count": null,
      "outputs": [
        {
          "output_type": "display_data",
          "data": {
            "text/plain": [
              "<Figure size 1150x300 with 5 Axes>"
            ],
            "image/png": "[encoded data removed]"
          },
          "metadata": {}
        }
      ]
    },
    {
      "cell_type": "code",
      "source": [
        "Q1 = Kualitas_Tanah.quantile(0.25)\n",
        "Q3 = Kualitas_Tanah.quantile(0.75)\n",
        "IQR = Q3 - Q1\n",
        "Kualitas_Tanah= Kualitas_Tanah[~((Kualitas_Tanah < (Q1 - 1.5*IQR)) | (Kualitas_Tanah > (Q3 + 1.5*IQR))).any(axis=1)]\n",
        "Kualitas_Tanah.shape"
      ],
      "metadata": {
        "id": "VJMuUTy7-YBD",
        "colab": {
          "base_uri": "https://localhost:8080/"
        },
        "outputId": "920b63aa-b18a-41e3-d26a-bb12375ccf64"
      },
      "execution_count": null,
      "outputs": [
        {
          "output_type": "execute_result",
          "data": {
            "text/plain": [
              "(1558, 5)"
            ]
          },
          "metadata": {},
          "execution_count": 12
        }
      ]
    },
    {
      "cell_type": "code",
      "source": [
        "Kualitas_Tanah"
      ],
      "metadata": {
        "id": "ge4Xw43V-sOV",
        "colab": {
          "base_uri": "https://localhost:8080/",
          "height": 424
        },
        "outputId": "88c3217f-0f19-4e11-b4e7-4d9975e068c5"
      },
      "execution_count": null,
      "outputs": [
        {
          "output_type": "execute_result",
          "data": {
            "text/plain": [
              "      Nitrogen  phosphorus  potassium        ph  Label Kualitas,\n",
              "0           90          42         43  6.502985                1\n",
              "1           85          58         41  7.038096                1\n",
              "2           60          55         44  7.840207                1\n",
              "3           74          35         40  6.980401                1\n",
              "4           78          42         42  7.628473                1\n",
              "...        ...         ...        ...       ...              ...\n",
              "2194        97          35         26  6.334610                1\n",
              "2195       107          34         32  6.780064                1\n",
              "2197       118          33         30  6.362608                1\n",
              "2198       117          32         34  6.758793                1\n",
              "2199       104          18         30  6.779833                1\n",
              "\n",
              "[1558 rows x 5 columns]"
            ],
            "text/html": [
              "\n",
              "  <div id=\"df-48436245-0310-4be7-91c3-3d418173eefa\">\n",
              "    <div class=\"colab-df-container\">\n",
              "      <div>\n",
              "<style scoped>\n",
              "    .dataframe tbody tr th:only-of-type {\n",
              "        vertical-align: middle;\n",
              "    }\n",
              "\n",
              "    .dataframe tbody tr th {\n",
              "        vertical-align: top;\n",
              "    }\n",
              "\n",
              "    .dataframe thead th {\n",
              "        text-align: right;\n",
              "    }\n",
              "</style>\n",
              "<table border=\"1\" class=\"dataframe\">\n",
              "  <thead>\n",
              "    <tr style=\"text-align: right;\">\n",
              "      <th></th>\n",
              "      <th>Nitrogen</th>\n",
              "      <th>phosphorus</th>\n",
              "      <th>potassium</th>\n",
              "      <th>ph</th>\n",
              "      <th>Label Kualitas,</th>\n",
              "    </tr>\n",
              "  </thead>\n",
              "  <tbody>\n",
              "    <tr>\n",
              "      <th>0</th>\n",
              "      <td>90</td>\n",
              "      <td>42</td>\n",
              "      <td>43</td>\n",
              "      <td>6.502985</td>\n",
              "      <td>1</td>\n",
              "    </tr>\n",
              "    <tr>\n",
              "      <th>1</th>\n",
              "      <td>85</td>\n",
              "      <td>58</td>\n",
              "      <td>41</td>\n",
              "      <td>7.038096</td>\n",
              "      <td>1</td>\n",
              "    </tr>\n",
              "    <tr>\n",
              "      <th>2</th>\n",
              "      <td>60</td>\n",
              "      <td>55</td>\n",
              "      <td>44</td>\n",
              "      <td>7.840207</td>\n",
              "      <td>1</td>\n",
              "    </tr>\n",
              "    <tr>\n",
              "      <th>3</th>\n",
              "      <td>74</td>\n",
              "      <td>35</td>\n",
              "      <td>40</td>\n",
              "      <td>6.980401</td>\n",
              "      <td>1</td>\n",
              "    </tr>\n",
              "    <tr>\n",
              "      <th>4</th>\n",
              "      <td>78</td>\n",
              "      <td>42</td>\n",
              "      <td>42</td>\n",
              "      <td>7.628473</td>\n",
              "      <td>1</td>\n",
              "    </tr>\n",
              "    <tr>\n",
              "      <th>...</th>\n",
              "      <td>...</td>\n",
              "      <td>...</td>\n",
              "      <td>...</td>\n",
              "      <td>...</td>\n",
              "      <td>...</td>\n",
              "    </tr>\n",
              "    <tr>\n",
              "      <th>2194</th>\n",
              "      <td>97</td>\n",
              "      <td>35</td>\n",
              "      <td>26</td>\n",
              "      <td>6.334610</td>\n",
              "      <td>1</td>\n",
              "    </tr>\n",
              "    <tr>\n",
              "      <th>2195</th>\n",
              "      <td>107</td>\n",
              "      <td>34</td>\n",
              "      <td>32</td>\n",
              "      <td>6.780064</td>\n",
              "      <td>1</td>\n",
              "    </tr>\n",
              "    <tr>\n",
              "      <th>2197</th>\n",
              "      <td>118</td>\n",
              "      <td>33</td>\n",
              "      <td>30</td>\n",
              "      <td>6.362608</td>\n",
              "      <td>1</td>\n",
              "    </tr>\n",
              "    <tr>\n",
              "      <th>2198</th>\n",
              "      <td>117</td>\n",
              "      <td>32</td>\n",
              "      <td>34</td>\n",
              "      <td>6.758793</td>\n",
              "      <td>1</td>\n",
              "    </tr>\n",
              "    <tr>\n",
              "      <th>2199</th>\n",
              "      <td>104</td>\n",
              "      <td>18</td>\n",
              "      <td>30</td>\n",
              "      <td>6.779833</td>\n",
              "      <td>1</td>\n",
              "    </tr>\n",
              "  </tbody>\n",
              "</table>\n",
              "<p>1558 rows × 5 columns</p>\n",
              "</div>\n",
              "      <button class=\"colab-df-convert\" onclick=\"convertToInteractive('df-48436245-0310-4be7-91c3-3d418173eefa')\"\n",
              "              title=\"Convert this dataframe to an interactive table.\"\n",
              "              style=\"display:none;\">\n",
              "        \n",
              "  <svg xmlns=\"http://www.w3.org/2000/svg\" height=\"24px\"viewBox=\"0 0 24 24\"\n",
              "       width=\"24px\">\n",
              "    <path d=\"M0 0h24v24H0V0z\" fill=\"none\"/>\n",
              "    <path d=\"M18.56 5.44l.94 2.06.94-2.06 2.06-.94-2.06-.94-.94-2.06-.94 2.06-2.06.94zm-11 1L8.5 8.5l.94-2.06 2.06-.94-2.06-.94L8.5 2.5l-.94 2.06-2.06.94zm10 10l.94 2.06.94-2.06 2.06-.94-2.06-.94-.94-2.06-.94 2.06-2.06.94z\"/><path d=\"M17.41 7.96l-1.37-1.37c-.4-.4-.92-.59-1.43-.59-.52 0-1.04.2-1.43.59L10.3 9.45l-7.72 7.72c-.78.78-.78 2.05 0 2.83L4 21.41c.39.39.9.59 1.41.59.51 0 1.02-.2 1.41-.59l7.78-7.78 2.81-2.81c.8-.78.8-2.07 0-2.86zM5.41 20L4 18.59l7.72-7.72 1.47 1.35L5.41 20z\"/>\n",
              "  </svg>\n",
              "      </button>\n",
              "      \n",
              "  <style>\n",
              "    .colab-df-container {\n",
              "      display:flex;\n",
              "      flex-wrap:wrap;\n",
              "      gap: 12px;\n",
              "    }\n",
              "\n",
              "    .colab-df-convert {\n",
              "      background-color: #E8F0FE;\n",
              "      border: none;\n",
              "      border-radius: 50%;\n",
              "      cursor: pointer;\n",
              "      display: none;\n",
              "      fill: #1967D2;\n",
              "      height: 32px;\n",
              "      padding: 0 0 0 0;\n",
              "      width: 32px;\n",
              "    }\n",
              "\n",
              "    .colab-df-convert:hover {\n",
              "      background-color: #E2EBFA;\n",
              "      box-shadow: 0px 1px 2px rgba(60, 64, 67, 0.3), 0px 1px 3px 1px rgba(60, 64, 67, 0.15);\n",
              "      fill: #174EA6;\n",
              "    }\n",
              "\n",
              "    [theme=dark] .colab-df-convert {\n",
              "      background-color: #3B4455;\n",
              "      fill: #D2E3FC;\n",
              "    }\n",
              "\n",
              "    [theme=dark] .colab-df-convert:hover {\n",
              "      background-color: #434B5C;\n",
              "      box-shadow: 0px 1px 3px 1px rgba(0, 0, 0, 0.15);\n",
              "      filter: drop-shadow(0px 1px 2px rgba(0, 0, 0, 0.3));\n",
              "      fill: #FFFFFF;\n",
              "    }\n",
              "  </style>\n",
              "\n",
              "      <script>\n",
              "        const buttonEl =\n",
              "          document.querySelector('#df-48436245-0310-4be7-91c3-3d418173eefa button.colab-df-convert');\n",
              "        buttonEl.style.display =\n",
              "          google.colab.kernel.accessAllowed ? 'block' : 'none';\n",
              "\n",
              "        async function convertToInteractive(key) {\n",
              "          const element = document.querySelector('#df-48436245-0310-4be7-91c3-3d418173eefa');\n",
              "          const dataTable =\n",
              "            await google.colab.kernel.invokeFunction('convertToInteractive',\n",
              "                                                     [key], {});\n",
              "          if (!dataTable) return;\n",
              "\n",
              "          const docLinkHtml = 'Like what you see? Visit the ' +\n",
              "            '<a target=\"_blank\" href=https://colab.research.google.com/notebooks/data_table.ipynb>data table notebook</a>'\n",
              "            + ' to learn more about interactive tables.';\n",
              "          element.innerHTML = '';\n",
              "          dataTable['output_type'] = 'display_data';\n",
              "          await google.colab.output.renderOutput(dataTable, element);\n",
              "          const docLink = document.createElement('div');\n",
              "          docLink.innerHTML = docLinkHtml;\n",
              "          element.appendChild(docLink);\n",
              "        }\n",
              "      </script>\n",
              "    </div>\n",
              "  </div>\n",
              "  "
            ]
          },
          "metadata": {},
          "execution_count": 13
        }
      ]
    },
    {
      "cell_type": "code",
      "source": [
        "Kualitas_Tanah.to_csv('DataKualitasTanahCLEAN.csv', index=False)"
      ],
      "metadata": {
        "id": "EcDVhos5oIyZ"
      },
      "execution_count": null,
      "outputs": []
    },
    {
      "cell_type": "markdown",
      "source": [
        "# Build Model"
      ],
      "metadata": {
        "id": "I2SEmW5VuJvS"
      }
    },
    {
      "cell_type": "markdown",
      "source": [
        "## Encoding "
      ],
      "metadata": {
        "id": "6ocrAJzwHKSg"
      }
    },
    {
      "cell_type": "code",
      "source": [
        "data1 = \"/content/DataKualitasTanahCLEAN.csv\"\n",
        "data1 = pd.read_csv(data1)\n",
        "data1.head ()"
      ],
      "metadata": {
        "colab": {
          "base_uri": "https://localhost:8080/",
          "height": 206
        },
        "id": "U8jYXC3woQUC",
        "outputId": "32018e1d-9698-4881-9478-bbdc5505de82"
      },
      "execution_count": null,
      "outputs": [
        {
          "output_type": "execute_result",
          "data": {
            "text/plain": [
              "   Nitrogen  phosphorus  potassium        ph  Label Kualitas,\n",
              "0        90          42         43  6.502985                1\n",
              "1        85          58         41  7.038096                1\n",
              "2        60          55         44  7.840207                1\n",
              "3        74          35         40  6.980401                1\n",
              "4        78          42         42  7.628473                1"
            ],
            "text/html": [
              "\n",
              "  <div id=\"df-99c8cfb0-348f-4d6b-8bdb-435433728942\">\n",
              "    <div class=\"colab-df-container\">\n",
              "      <div>\n",
              "<style scoped>\n",
              "    .dataframe tbody tr th:only-of-type {\n",
              "        vertical-align: middle;\n",
              "    }\n",
              "\n",
              "    .dataframe tbody tr th {\n",
              "        vertical-align: top;\n",
              "    }\n",
              "\n",
              "    .dataframe thead th {\n",
              "        text-align: right;\n",
              "    }\n",
              "</style>\n",
              "<table border=\"1\" class=\"dataframe\">\n",
              "  <thead>\n",
              "    <tr style=\"text-align: right;\">\n",
              "      <th></th>\n",
              "      <th>Nitrogen</th>\n",
              "      <th>phosphorus</th>\n",
              "      <th>potassium</th>\n",
              "      <th>ph</th>\n",
              "      <th>Label Kualitas,</th>\n",
              "    </tr>\n",
              "  </thead>\n",
              "  <tbody>\n",
              "    <tr>\n",
              "      <th>0</th>\n",
              "      <td>90</td>\n",
              "      <td>42</td>\n",
              "      <td>43</td>\n",
              "      <td>6.502985</td>\n",
              "      <td>1</td>\n",
              "    </tr>\n",
              "    <tr>\n",
              "      <th>1</th>\n",
              "      <td>85</td>\n",
              "      <td>58</td>\n",
              "      <td>41</td>\n",
              "      <td>7.038096</td>\n",
              "      <td>1</td>\n",
              "    </tr>\n",
              "    <tr>\n",
              "      <th>2</th>\n",
              "      <td>60</td>\n",
              "      <td>55</td>\n",
              "      <td>44</td>\n",
              "      <td>7.840207</td>\n",
              "      <td>1</td>\n",
              "    </tr>\n",
              "    <tr>\n",
              "      <th>3</th>\n",
              "      <td>74</td>\n",
              "      <td>35</td>\n",
              "      <td>40</td>\n",
              "      <td>6.980401</td>\n",
              "      <td>1</td>\n",
              "    </tr>\n",
              "    <tr>\n",
              "      <th>4</th>\n",
              "      <td>78</td>\n",
              "      <td>42</td>\n",
              "      <td>42</td>\n",
              "      <td>7.628473</td>\n",
              "      <td>1</td>\n",
              "    </tr>\n",
              "  </tbody>\n",
              "</table>\n",
              "</div>\n",
              "      <button class=\"colab-df-convert\" onclick=\"convertToInteractive('df-99c8cfb0-348f-4d6b-8bdb-435433728942')\"\n",
              "              title=\"Convert this dataframe to an interactive table.\"\n",
              "              style=\"display:none;\">\n",
              "        \n",
              "  <svg xmlns=\"http://www.w3.org/2000/svg\" height=\"24px\"viewBox=\"0 0 24 24\"\n",
              "       width=\"24px\">\n",
              "    <path d=\"M0 0h24v24H0V0z\" fill=\"none\"/>\n",
              "    <path d=\"M18.56 5.44l.94 2.06.94-2.06 2.06-.94-2.06-.94-.94-2.06-.94 2.06-2.06.94zm-11 1L8.5 8.5l.94-2.06 2.06-.94-2.06-.94L8.5 2.5l-.94 2.06-2.06.94zm10 10l.94 2.06.94-2.06 2.06-.94-2.06-.94-.94-2.06-.94 2.06-2.06.94z\"/><path d=\"M17.41 7.96l-1.37-1.37c-.4-.4-.92-.59-1.43-.59-.52 0-1.04.2-1.43.59L10.3 9.45l-7.72 7.72c-.78.78-.78 2.05 0 2.83L4 21.41c.39.39.9.59 1.41.59.51 0 1.02-.2 1.41-.59l7.78-7.78 2.81-2.81c.8-.78.8-2.07 0-2.86zM5.41 20L4 18.59l7.72-7.72 1.47 1.35L5.41 20z\"/>\n",
              "  </svg>\n",
              "      </button>\n",
              "      \n",
              "  <style>\n",
              "    .colab-df-container {\n",
              "      display:flex;\n",
              "      flex-wrap:wrap;\n",
              "      gap: 12px;\n",
              "    }\n",
              "\n",
              "    .colab-df-convert {\n",
              "      background-color: #E8F0FE;\n",
              "      border: none;\n",
              "      border-radius: 50%;\n",
              "      cursor: pointer;\n",
              "      display: none;\n",
              "      fill: #1967D2;\n",
              "      height: 32px;\n",
              "      padding: 0 0 0 0;\n",
              "      width: 32px;\n",
              "    }\n",
              "\n",
              "    .colab-df-convert:hover {\n",
              "      background-color: #E2EBFA;\n",
              "      box-shadow: 0px 1px 2px rgba(60, 64, 67, 0.3), 0px 1px 3px 1px rgba(60, 64, 67, 0.15);\n",
              "      fill: #174EA6;\n",
              "    }\n",
              "\n",
              "    [theme=dark] .colab-df-convert {\n",
              "      background-color: #3B4455;\n",
              "      fill: #D2E3FC;\n",
              "    }\n",
              "\n",
              "    [theme=dark] .colab-df-convert:hover {\n",
              "      background-color: #434B5C;\n",
              "      box-shadow: 0px 1px 3px 1px rgba(0, 0, 0, 0.15);\n",
              "      filter: drop-shadow(0px 1px 2px rgba(0, 0, 0, 0.3));\n",
              "      fill: #FFFFFF;\n",
              "    }\n",
              "  </style>\n",
              "\n",
              "      <script>\n",
              "        const buttonEl =\n",
              "          document.querySelector('#df-99c8cfb0-348f-4d6b-8bdb-435433728942 button.colab-df-convert');\n",
              "        buttonEl.style.display =\n",
              "          google.colab.kernel.accessAllowed ? 'block' : 'none';\n",
              "\n",
              "        async function convertToInteractive(key) {\n",
              "          const element = document.querySelector('#df-99c8cfb0-348f-4d6b-8bdb-435433728942');\n",
              "          const dataTable =\n",
              "            await google.colab.kernel.invokeFunction('convertToInteractive',\n",
              "                                                     [key], {});\n",
              "          if (!dataTable) return;\n",
              "\n",
              "          const docLinkHtml = 'Like what you see? Visit the ' +\n",
              "            '<a target=\"_blank\" href=https://colab.research.google.com/notebooks/data_table.ipynb>data table notebook</a>'\n",
              "            + ' to learn more about interactive tables.';\n",
              "          element.innerHTML = '';\n",
              "          dataTable['output_type'] = 'display_data';\n",
              "          await google.colab.output.renderOutput(dataTable, element);\n",
              "          const docLink = document.createElement('div');\n",
              "          docLink.innerHTML = docLinkHtml;\n",
              "          element.appendChild(docLink);\n",
              "        }\n",
              "      </script>\n",
              "    </div>\n",
              "  </div>\n",
              "  "
            ]
          },
          "metadata": {},
          "execution_count": 15
        }
      ]
    },
    {
      "cell_type": "code",
      "source": [
        "encoder = LabelEncoder()"
      ],
      "metadata": {
        "id": "ek0Hq4vYHAtg"
      },
      "execution_count": null,
      "outputs": []
    },
    {
      "cell_type": "code",
      "source": [
        "X = data1.iloc[:,:-1]\n",
        "y = data1.iloc[:,-1:]\n",
        "X"
      ],
      "metadata": {
        "colab": {
          "base_uri": "https://localhost:8080/",
          "height": 424
        },
        "id": "ZqF-__PWofoF",
        "outputId": "6a2a1912-99ab-43ba-cccd-741bc0526cfa"
      },
      "execution_count": null,
      "outputs": [
        {
          "output_type": "execute_result",
          "data": {
            "text/plain": [
              "      Nitrogen  phosphorus  potassium        ph\n",
              "0           90          42         43  6.502985\n",
              "1           85          58         41  7.038096\n",
              "2           60          55         44  7.840207\n",
              "3           74          35         40  6.980401\n",
              "4           78          42         42  7.628473\n",
              "...        ...         ...        ...       ...\n",
              "1553        97          35         26  6.334610\n",
              "1554       107          34         32  6.780064\n",
              "1555       118          33         30  6.362608\n",
              "1556       117          32         34  6.758793\n",
              "1557       104          18         30  6.779833\n",
              "\n",
              "[1558 rows x 4 columns]"
            ],
            "text/html": [
              "\n",
              "  <div id=\"df-f32c86e4-a825-4840-84eb-0c4f66f27bbe\">\n",
              "    <div class=\"colab-df-container\">\n",
              "      <div>\n",
              "<style scoped>\n",
              "    .dataframe tbody tr th:only-of-type {\n",
              "        vertical-align: middle;\n",
              "    }\n",
              "\n",
              "    .dataframe tbody tr th {\n",
              "        vertical-align: top;\n",
              "    }\n",
              "\n",
              "    .dataframe thead th {\n",
              "        text-align: right;\n",
              "    }\n",
              "</style>\n",
              "<table border=\"1\" class=\"dataframe\">\n",
              "  <thead>\n",
              "    <tr style=\"text-align: right;\">\n",
              "      <th></th>\n",
              "      <th>Nitrogen</th>\n",
              "      <th>phosphorus</th>\n",
              "      <th>potassium</th>\n",
              "      <th>ph</th>\n",
              "    </tr>\n",
              "  </thead>\n",
              "  <tbody>\n",
              "    <tr>\n",
              "      <th>0</th>\n",
              "      <td>90</td>\n",
              "      <td>42</td>\n",
              "      <td>43</td>\n",
              "      <td>6.502985</td>\n",
              "    </tr>\n",
              "    <tr>\n",
              "      <th>1</th>\n",
              "      <td>85</td>\n",
              "      <td>58</td>\n",
              "      <td>41</td>\n",
              "      <td>7.038096</td>\n",
              "    </tr>\n",
              "    <tr>\n",
              "      <th>2</th>\n",
              "      <td>60</td>\n",
              "      <td>55</td>\n",
              "      <td>44</td>\n",
              "      <td>7.840207</td>\n",
              "    </tr>\n",
              "    <tr>\n",
              "      <th>3</th>\n",
              "      <td>74</td>\n",
              "      <td>35</td>\n",
              "      <td>40</td>\n",
              "      <td>6.980401</td>\n",
              "    </tr>\n",
              "    <tr>\n",
              "      <th>4</th>\n",
              "      <td>78</td>\n",
              "      <td>42</td>\n",
              "      <td>42</td>\n",
              "      <td>7.628473</td>\n",
              "    </tr>\n",
              "    <tr>\n",
              "      <th>...</th>\n",
              "      <td>...</td>\n",
              "      <td>...</td>\n",
              "      <td>...</td>\n",
              "      <td>...</td>\n",
              "    </tr>\n",
              "    <tr>\n",
              "      <th>1553</th>\n",
              "      <td>97</td>\n",
              "      <td>35</td>\n",
              "      <td>26</td>\n",
              "      <td>6.334610</td>\n",
              "    </tr>\n",
              "    <tr>\n",
              "      <th>1554</th>\n",
              "      <td>107</td>\n",
              "      <td>34</td>\n",
              "      <td>32</td>\n",
              "      <td>6.780064</td>\n",
              "    </tr>\n",
              "    <tr>\n",
              "      <th>1555</th>\n",
              "      <td>118</td>\n",
              "      <td>33</td>\n",
              "      <td>30</td>\n",
              "      <td>6.362608</td>\n",
              "    </tr>\n",
              "    <tr>\n",
              "      <th>1556</th>\n",
              "      <td>117</td>\n",
              "      <td>32</td>\n",
              "      <td>34</td>\n",
              "      <td>6.758793</td>\n",
              "    </tr>\n",
              "    <tr>\n",
              "      <th>1557</th>\n",
              "      <td>104</td>\n",
              "      <td>18</td>\n",
              "      <td>30</td>\n",
              "      <td>6.779833</td>\n",
              "    </tr>\n",
              "  </tbody>\n",
              "</table>\n",
              "<p>1558 rows × 4 columns</p>\n",
              "</div>\n",
              "      <button class=\"colab-df-convert\" onclick=\"convertToInteractive('df-f32c86e4-a825-4840-84eb-0c4f66f27bbe')\"\n",
              "              title=\"Convert this dataframe to an interactive table.\"\n",
              "              style=\"display:none;\">\n",
              "        \n",
              "  <svg xmlns=\"http://www.w3.org/2000/svg\" height=\"24px\"viewBox=\"0 0 24 24\"\n",
              "       width=\"24px\">\n",
              "    <path d=\"M0 0h24v24H0V0z\" fill=\"none\"/>\n",
              "    <path d=\"M18.56 5.44l.94 2.06.94-2.06 2.06-.94-2.06-.94-.94-2.06-.94 2.06-2.06.94zm-11 1L8.5 8.5l.94-2.06 2.06-.94-2.06-.94L8.5 2.5l-.94 2.06-2.06.94zm10 10l.94 2.06.94-2.06 2.06-.94-2.06-.94-.94-2.06-.94 2.06-2.06.94z\"/><path d=\"M17.41 7.96l-1.37-1.37c-.4-.4-.92-.59-1.43-.59-.52 0-1.04.2-1.43.59L10.3 9.45l-7.72 7.72c-.78.78-.78 2.05 0 2.83L4 21.41c.39.39.9.59 1.41.59.51 0 1.02-.2 1.41-.59l7.78-7.78 2.81-2.81c.8-.78.8-2.07 0-2.86zM5.41 20L4 18.59l7.72-7.72 1.47 1.35L5.41 20z\"/>\n",
              "  </svg>\n",
              "      </button>\n",
              "      \n",
              "  <style>\n",
              "    .colab-df-container {\n",
              "      display:flex;\n",
              "      flex-wrap:wrap;\n",
              "      gap: 12px;\n",
              "    }\n",
              "\n",
              "    .colab-df-convert {\n",
              "      background-color: #E8F0FE;\n",
              "      border: none;\n",
              "      border-radius: 50%;\n",
              "      cursor: pointer;\n",
              "      display: none;\n",
              "      fill: #1967D2;\n",
              "      height: 32px;\n",
              "      padding: 0 0 0 0;\n",
              "      width: 32px;\n",
              "    }\n",
              "\n",
              "    .colab-df-convert:hover {\n",
              "      background-color: #E2EBFA;\n",
              "      box-shadow: 0px 1px 2px rgba(60, 64, 67, 0.3), 0px 1px 3px 1px rgba(60, 64, 67, 0.15);\n",
              "      fill: #174EA6;\n",
              "    }\n",
              "\n",
              "    [theme=dark] .colab-df-convert {\n",
              "      background-color: #3B4455;\n",
              "      fill: #D2E3FC;\n",
              "    }\n",
              "\n",
              "    [theme=dark] .colab-df-convert:hover {\n",
              "      background-color: #434B5C;\n",
              "      box-shadow: 0px 1px 3px 1px rgba(0, 0, 0, 0.15);\n",
              "      filter: drop-shadow(0px 1px 2px rgba(0, 0, 0, 0.3));\n",
              "      fill: #FFFFFF;\n",
              "    }\n",
              "  </style>\n",
              "\n",
              "      <script>\n",
              "        const buttonEl =\n",
              "          document.querySelector('#df-f32c86e4-a825-4840-84eb-0c4f66f27bbe button.colab-df-convert');\n",
              "        buttonEl.style.display =\n",
              "          google.colab.kernel.accessAllowed ? 'block' : 'none';\n",
              "\n",
              "        async function convertToInteractive(key) {\n",
              "          const element = document.querySelector('#df-f32c86e4-a825-4840-84eb-0c4f66f27bbe');\n",
              "          const dataTable =\n",
              "            await google.colab.kernel.invokeFunction('convertToInteractive',\n",
              "                                                     [key], {});\n",
              "          if (!dataTable) return;\n",
              "\n",
              "          const docLinkHtml = 'Like what you see? Visit the ' +\n",
              "            '<a target=\"_blank\" href=https://colab.research.google.com/notebooks/data_table.ipynb>data table notebook</a>'\n",
              "            + ' to learn more about interactive tables.';\n",
              "          element.innerHTML = '';\n",
              "          dataTable['output_type'] = 'display_data';\n",
              "          await google.colab.output.renderOutput(dataTable, element);\n",
              "          const docLink = document.createElement('div');\n",
              "          docLink.innerHTML = docLinkHtml;\n",
              "          element.appendChild(docLink);\n",
              "        }\n",
              "      </script>\n",
              "    </div>\n",
              "  </div>\n",
              "  "
            ]
          },
          "metadata": {},
          "execution_count": 17
        }
      ]
    },
    {
      "cell_type": "code",
      "source": [
        "y"
      ],
      "metadata": {
        "colab": {
          "base_uri": "https://localhost:8080/",
          "height": 424
        },
        "id": "ytZ8HkJin74A",
        "outputId": "2646be21-e03f-4c52-e70b-76fd7ef239b4"
      },
      "execution_count": null,
      "outputs": [
        {
          "output_type": "execute_result",
          "data": {
            "text/plain": [
              "      Label Kualitas,\n",
              "0                   1\n",
              "1                   1\n",
              "2                   1\n",
              "3                   1\n",
              "4                   1\n",
              "...               ...\n",
              "1553                1\n",
              "1554                1\n",
              "1555                1\n",
              "1556                1\n",
              "1557                1\n",
              "\n",
              "[1558 rows x 1 columns]"
            ],
            "text/html": [
              "\n",
              "  <div id=\"df-8a7db854-7e55-4ce6-92d3-7a9db229d337\">\n",
              "    <div class=\"colab-df-container\">\n",
              "      <div>\n",
              "<style scoped>\n",
              "    .dataframe tbody tr th:only-of-type {\n",
              "        vertical-align: middle;\n",
              "    }\n",
              "\n",
              "    .dataframe tbody tr th {\n",
              "        vertical-align: top;\n",
              "    }\n",
              "\n",
              "    .dataframe thead th {\n",
              "        text-align: right;\n",
              "    }\n",
              "</style>\n",
              "<table border=\"1\" class=\"dataframe\">\n",
              "  <thead>\n",
              "    <tr style=\"text-align: right;\">\n",
              "      <th></th>\n",
              "      <th>Label Kualitas,</th>\n",
              "    </tr>\n",
              "  </thead>\n",
              "  <tbody>\n",
              "    <tr>\n",
              "      <th>0</th>\n",
              "      <td>1</td>\n",
              "    </tr>\n",
              "    <tr>\n",
              "      <th>1</th>\n",
              "      <td>1</td>\n",
              "    </tr>\n",
              "    <tr>\n",
              "      <th>2</th>\n",
              "      <td>1</td>\n",
              "    </tr>\n",
              "    <tr>\n",
              "      <th>3</th>\n",
              "      <td>1</td>\n",
              "    </tr>\n",
              "    <tr>\n",
              "      <th>4</th>\n",
              "      <td>1</td>\n",
              "    </tr>\n",
              "    <tr>\n",
              "      <th>...</th>\n",
              "      <td>...</td>\n",
              "    </tr>\n",
              "    <tr>\n",
              "      <th>1553</th>\n",
              "      <td>1</td>\n",
              "    </tr>\n",
              "    <tr>\n",
              "      <th>1554</th>\n",
              "      <td>1</td>\n",
              "    </tr>\n",
              "    <tr>\n",
              "      <th>1555</th>\n",
              "      <td>1</td>\n",
              "    </tr>\n",
              "    <tr>\n",
              "      <th>1556</th>\n",
              "      <td>1</td>\n",
              "    </tr>\n",
              "    <tr>\n",
              "      <th>1557</th>\n",
              "      <td>1</td>\n",
              "    </tr>\n",
              "  </tbody>\n",
              "</table>\n",
              "<p>1558 rows × 1 columns</p>\n",
              "</div>\n",
              "      <button class=\"colab-df-convert\" onclick=\"convertToInteractive('df-8a7db854-7e55-4ce6-92d3-7a9db229d337')\"\n",
              "              title=\"Convert this dataframe to an interactive table.\"\n",
              "              style=\"display:none;\">\n",
              "        \n",
              "  <svg xmlns=\"http://www.w3.org/2000/svg\" height=\"24px\"viewBox=\"0 0 24 24\"\n",
              "       width=\"24px\">\n",
              "    <path d=\"M0 0h24v24H0V0z\" fill=\"none\"/>\n",
              "    <path d=\"M18.56 5.44l.94 2.06.94-2.06 2.06-.94-2.06-.94-.94-2.06-.94 2.06-2.06.94zm-11 1L8.5 8.5l.94-2.06 2.06-.94-2.06-.94L8.5 2.5l-.94 2.06-2.06.94zm10 10l.94 2.06.94-2.06 2.06-.94-2.06-.94-.94-2.06-.94 2.06-2.06.94z\"/><path d=\"M17.41 7.96l-1.37-1.37c-.4-.4-.92-.59-1.43-.59-.52 0-1.04.2-1.43.59L10.3 9.45l-7.72 7.72c-.78.78-.78 2.05 0 2.83L4 21.41c.39.39.9.59 1.41.59.51 0 1.02-.2 1.41-.59l7.78-7.78 2.81-2.81c.8-.78.8-2.07 0-2.86zM5.41 20L4 18.59l7.72-7.72 1.47 1.35L5.41 20z\"/>\n",
              "  </svg>\n",
              "      </button>\n",
              "      \n",
              "  <style>\n",
              "    .colab-df-container {\n",
              "      display:flex;\n",
              "      flex-wrap:wrap;\n",
              "      gap: 12px;\n",
              "    }\n",
              "\n",
              "    .colab-df-convert {\n",
              "      background-color: #E8F0FE;\n",
              "      border: none;\n",
              "      border-radius: 50%;\n",
              "      cursor: pointer;\n",
              "      display: none;\n",
              "      fill: #1967D2;\n",
              "      height: 32px;\n",
              "      padding: 0 0 0 0;\n",
              "      width: 32px;\n",
              "    }\n",
              "\n",
              "    .colab-df-convert:hover {\n",
              "      background-color: #E2EBFA;\n",
              "      box-shadow: 0px 1px 2px rgba(60, 64, 67, 0.3), 0px 1px 3px 1px rgba(60, 64, 67, 0.15);\n",
              "      fill: #174EA6;\n",
              "    }\n",
              "\n",
              "    [theme=dark] .colab-df-convert {\n",
              "      background-color: #3B4455;\n",
              "      fill: #D2E3FC;\n",
              "    }\n",
              "\n",
              "    [theme=dark] .colab-df-convert:hover {\n",
              "      background-color: #434B5C;\n",
              "      box-shadow: 0px 1px 3px 1px rgba(0, 0, 0, 0.15);\n",
              "      filter: drop-shadow(0px 1px 2px rgba(0, 0, 0, 0.3));\n",
              "      fill: #FFFFFF;\n",
              "    }\n",
              "  </style>\n",
              "\n",
              "      <script>\n",
              "        const buttonEl =\n",
              "          document.querySelector('#df-8a7db854-7e55-4ce6-92d3-7a9db229d337 button.colab-df-convert');\n",
              "        buttonEl.style.display =\n",
              "          google.colab.kernel.accessAllowed ? 'block' : 'none';\n",
              "\n",
              "        async function convertToInteractive(key) {\n",
              "          const element = document.querySelector('#df-8a7db854-7e55-4ce6-92d3-7a9db229d337');\n",
              "          const dataTable =\n",
              "            await google.colab.kernel.invokeFunction('convertToInteractive',\n",
              "                                                     [key], {});\n",
              "          if (!dataTable) return;\n",
              "\n",
              "          const docLinkHtml = 'Like what you see? Visit the ' +\n",
              "            '<a target=\"_blank\" href=https://colab.research.google.com/notebooks/data_table.ipynb>data table notebook</a>'\n",
              "            + ' to learn more about interactive tables.';\n",
              "          element.innerHTML = '';\n",
              "          dataTable['output_type'] = 'display_data';\n",
              "          await google.colab.output.renderOutput(dataTable, element);\n",
              "          const docLink = document.createElement('div');\n",
              "          docLink.innerHTML = docLinkHtml;\n",
              "          element.appendChild(docLink);\n",
              "        }\n",
              "      </script>\n",
              "    </div>\n",
              "  </div>\n",
              "  "
            ]
          },
          "metadata": {},
          "execution_count": 18
        }
      ]
    },
    {
      "cell_type": "code",
      "source": [
        "encoder.fit(y)\n",
        "y = encoder.transform(y)\n",
        "y = tf.keras.utils.to_categorical(y)\n",
        "y"
      ],
      "metadata": {
        "colab": {
          "base_uri": "https://localhost:8080/"
        },
        "id": "QPciAe4ov478",
        "outputId": "1e1d21e0-2569-41ce-e31b-05f0efc03723"
      },
      "execution_count": null,
      "outputs": [
        {
          "output_type": "stream",
          "name": "stderr",
          "text": [
            "/usr/local/lib/python3.10/dist-packages/sklearn/preprocessing/_label.py:99: DataConversionWarning: A column-vector y was passed when a 1d array was expected. Please change the shape of y to (n_samples, ), for example using ravel().\n",
            "  y = column_or_1d(y, warn=True)\n",
            "/usr/local/lib/python3.10/dist-packages/sklearn/preprocessing/_label.py:134: DataConversionWarning: A column-vector y was passed when a 1d array was expected. Please change the shape of y to (n_samples, ), for example using ravel().\n",
            "  y = column_or_1d(y, dtype=self.classes_.dtype, warn=True)\n"
          ]
        },
        {
          "output_type": "execute_result",
          "data": {
            "text/plain": [
              "array([[1.],\n",
              "       [1.],\n",
              "       [1.],\n",
              "       ...,\n",
              "       [1.],\n",
              "       [1.],\n",
              "       [1.]], dtype=float32)"
            ]
          },
          "metadata": {},
          "execution_count": 19
        }
      ]
    },
    {
      "cell_type": "markdown",
      "source": [
        "## Split Data"
      ],
      "metadata": {
        "id": "qZd6RZldHyI3"
      }
    },
    {
      "cell_type": "code",
      "source": [
        "X_train, X_test, y_train, y_test = train_test_split(X, y, test_size=0.2, random_state=42)"
      ],
      "metadata": {
        "id": "GsgVE6vprjQS"
      },
      "execution_count": null,
      "outputs": []
    },
    {
      "cell_type": "code",
      "source": [
        "X_train.shape"
      ],
      "metadata": {
        "colab": {
          "base_uri": "https://localhost:8080/"
        },
        "id": "fwEdW3DOHxeR",
        "outputId": "67f608f3-dc62-495e-eccc-2616d7a3797b"
      },
      "execution_count": null,
      "outputs": [
        {
          "output_type": "execute_result",
          "data": {
            "text/plain": [
              "(1246, 4)"
            ]
          },
          "metadata": {},
          "execution_count": 21
        }
      ]
    },
    {
      "cell_type": "code",
      "source": [
        "X_test.shape"
      ],
      "metadata": {
        "colab": {
          "base_uri": "https://localhost:8080/"
        },
        "id": "G6t4hNpHH3WZ",
        "outputId": "9d16512d-ff9e-46eb-eef9-93ecf8ce485e"
      },
      "execution_count": null,
      "outputs": [
        {
          "output_type": "execute_result",
          "data": {
            "text/plain": [
              "(312, 4)"
            ]
          },
          "metadata": {},
          "execution_count": 22
        }
      ]
    },
    {
      "cell_type": "markdown",
      "source": [
        "## Model Squential"
      ],
      "metadata": {
        "id": "EPD8QqOLJYoc"
      }
    },
    {
      "cell_type": "code",
      "source": [
        "model = tf.keras.models.Sequential([\n",
        "    tf.keras.layers.Dense(64, input_dim = 4 ,activation = \"relu\"),\n",
        "    tf.keras.layers.Dense(32,activation = \"relu\"),\n",
        "    tf.keras.layers.Dense(16,activation = \"relu\"),\n",
        "    tf.keras.layers.Dense(8,activation = \"relu\"),\n",
        "    tf.keras.layers.Dropout(0.25),\n",
        "    tf.keras.layers.Dense(1, activation = \"sigmoid\")\n",
        "])\n",
        "model.summary()"
      ],
      "metadata": {
        "colab": {
          "base_uri": "https://localhost:8080/"
        },
        "id": "JoecNwi8rsl0",
        "outputId": "19bb3717-3c45-46a9-cf2c-200927f9372d"
      },
      "execution_count": null,
      "outputs": [
        {
          "output_type": "stream",
          "name": "stdout",
          "text": [
            "Model: \"sequential_1\"\n",
            "_________________________________________________________________\n",
            " Layer (type)                Output Shape              Param #   \n",
            "=================================================================\n",
            " dense_5 (Dense)             (None, 64)                320       \n",
            "                                                                 \n",
            " dense_6 (Dense)             (None, 32)                2080      \n",
            "                                                                 \n",
            " dense_7 (Dense)             (None, 16)                528       \n",
            "                                                                 \n",
            " dense_8 (Dense)             (None, 8)                 136       \n",
            "                                                                 \n",
            " dropout_1 (Dropout)         (None, 8)                 0         \n",
            "                                                                 \n",
            " dense_9 (Dense)             (None, 1)                 9         \n",
            "                                                                 \n",
            "=================================================================\n",
            "Total params: 3,073\n",
            "Trainable params: 3,073\n",
            "Non-trainable params: 0\n",
            "_________________________________________________________________\n"
          ]
        }
      ]
    },
    {
      "cell_type": "markdown",
      "source": [
        "## Model Compile"
      ],
      "metadata": {
        "id": "73GPmf1QJXWR"
      }
    },
    {
      "cell_type": "code",
      "source": [
        "model.compile(loss = \"binary_crossentropy\",\n",
        "              optimizer = \"adam\",\n",
        "              metrics = \"accuracy\")"
      ],
      "metadata": {
        "id": "XoRc_mfmr3dR"
      },
      "execution_count": null,
      "outputs": []
    },
    {
      "cell_type": "code",
      "source": [
        "history = model.fit(X_train,y_train,validation_data = (X_test, y_test),epochs = 200,\n",
        "                    batch_size = 4,verbose = 2)"
      ],
      "metadata": {
        "colab": {
          "base_uri": "https://localhost:8080/"
        },
        "id": "lAnvxkCrr73i",
        "outputId": "ceeae0d5-cd68-4a56-d83f-d889b9b8b859"
      },
      "execution_count": null,
      "outputs": [
        {
          "output_type": "stream",
          "name": "stdout",
          "text": [
            "Epoch 1/200\n",
            "312/312 - 2s - loss: 0.0397 - accuracy: 0.9799 - val_loss: 2.7604e-05 - val_accuracy: 1.0000 - 2s/epoch - 7ms/step\n",
            "Epoch 2/200\n",
            "312/312 - 1s - loss: 0.0104 - accuracy: 1.0000 - val_loss: 2.0233e-06 - val_accuracy: 1.0000 - 679ms/epoch - 2ms/step\n",
            "Epoch 3/200\n",
            "312/312 - 1s - loss: 0.0089 - accuracy: 1.0000 - val_loss: 2.0534e-07 - val_accuracy: 1.0000 - 702ms/epoch - 2ms/step\n",
            "Epoch 4/200\n",
            "312/312 - 1s - loss: 0.0119 - accuracy: 0.9984 - val_loss: 3.0294e-10 - val_accuracy: 1.0000 - 657ms/epoch - 2ms/step\n",
            "Epoch 5/200\n",
            "312/312 - 1s - loss: 0.0057 - accuracy: 1.0000 - val_loss: 2.0771e-10 - val_accuracy: 1.0000 - 720ms/epoch - 2ms/step\n",
            "Epoch 6/200\n",
            "312/312 - 1s - loss: 0.0069 - accuracy: 1.0000 - val_loss: 1.4710e-10 - val_accuracy: 1.0000 - 706ms/epoch - 2ms/step\n",
            "Epoch 7/200\n",
            "312/312 - 1s - loss: 0.0067 - accuracy: 1.0000 - val_loss: 1.2145e-10 - val_accuracy: 1.0000 - 709ms/epoch - 2ms/step\n",
            "Epoch 8/200\n",
            "312/312 - 1s - loss: 0.0122 - accuracy: 1.0000 - val_loss: 8.4783e-11 - val_accuracy: 1.0000 - 681ms/epoch - 2ms/step\n",
            "Epoch 9/200\n",
            "312/312 - 1s - loss: 0.0059 - accuracy: 1.0000 - val_loss: 5.4166e-11 - val_accuracy: 1.0000 - 711ms/epoch - 2ms/step\n",
            "Epoch 10/200\n",
            "312/312 - 1s - loss: 0.0094 - accuracy: 1.0000 - val_loss: 4.8012e-11 - val_accuracy: 1.0000 - 993ms/epoch - 3ms/step\n",
            "Epoch 11/200\n",
            "312/312 - 1s - loss: 0.0067 - accuracy: 1.0000 - val_loss: 4.2213e-11 - val_accuracy: 1.0000 - 993ms/epoch - 3ms/step\n",
            "Epoch 12/200\n",
            "312/312 - 1s - loss: 0.0051 - accuracy: 1.0000 - val_loss: 3.8017e-11 - val_accuracy: 1.0000 - 878ms/epoch - 3ms/step\n",
            "Epoch 13/200\n",
            "312/312 - 1s - loss: 0.0061 - accuracy: 1.0000 - val_loss: 3.2266e-11 - val_accuracy: 1.0000 - 698ms/epoch - 2ms/step\n",
            "Epoch 14/200\n",
            "312/312 - 1s - loss: 0.0061 - accuracy: 1.0000 - val_loss: 1.9569e-11 - val_accuracy: 1.0000 - 672ms/epoch - 2ms/step\n",
            "Epoch 15/200\n",
            "312/312 - 1s - loss: 0.0060 - accuracy: 1.0000 - val_loss: 1.7710e-11 - val_accuracy: 1.0000 - 700ms/epoch - 2ms/step\n",
            "Epoch 16/200\n",
            "312/312 - 1s - loss: 0.0041 - accuracy: 1.0000 - val_loss: 7.1345e-12 - val_accuracy: 1.0000 - 715ms/epoch - 2ms/step\n",
            "Epoch 17/200\n",
            "312/312 - 1s - loss: 0.0026 - accuracy: 1.0000 - val_loss: 4.5168e-12 - val_accuracy: 1.0000 - 728ms/epoch - 2ms/step\n",
            "Epoch 18/200\n",
            "312/312 - 1s - loss: 0.0028 - accuracy: 1.0000 - val_loss: 4.2558e-12 - val_accuracy: 1.0000 - 713ms/epoch - 2ms/step\n",
            "Epoch 19/200\n",
            "312/312 - 1s - loss: 0.0056 - accuracy: 1.0000 - val_loss: 2.5275e-12 - val_accuracy: 1.0000 - 725ms/epoch - 2ms/step\n",
            "Epoch 20/200\n",
            "312/312 - 1s - loss: 0.0050 - accuracy: 1.0000 - val_loss: 1.2948e-12 - val_accuracy: 1.0000 - 666ms/epoch - 2ms/step\n",
            "Epoch 21/200\n",
            "312/312 - 1s - loss: 0.0032 - accuracy: 1.0000 - val_loss: 1.1263e-12 - val_accuracy: 1.0000 - 687ms/epoch - 2ms/step\n",
            "Epoch 22/200\n",
            "312/312 - 1s - loss: 0.0031 - accuracy: 1.0000 - val_loss: 1.0274e-12 - val_accuracy: 1.0000 - 641ms/epoch - 2ms/step\n",
            "Epoch 23/200\n",
            "312/312 - 1s - loss: 0.0042 - accuracy: 1.0000 - val_loss: 8.8842e-13 - val_accuracy: 1.0000 - 653ms/epoch - 2ms/step\n",
            "Epoch 24/200\n",
            "312/312 - 1s - loss: 0.0032 - accuracy: 1.0000 - val_loss: 6.9577e-13 - val_accuracy: 1.0000 - 714ms/epoch - 2ms/step\n",
            "Epoch 25/200\n",
            "312/312 - 1s - loss: 0.0034 - accuracy: 1.0000 - val_loss: 5.3416e-13 - val_accuracy: 1.0000 - 646ms/epoch - 2ms/step\n",
            "Epoch 26/200\n",
            "312/312 - 1s - loss: 0.0032 - accuracy: 1.0000 - val_loss: 4.1356e-13 - val_accuracy: 1.0000 - 663ms/epoch - 2ms/step\n",
            "Epoch 27/200\n",
            "312/312 - 1s - loss: 0.0033 - accuracy: 1.0000 - val_loss: 3.4900e-13 - val_accuracy: 1.0000 - 1s/epoch - 3ms/step\n",
            "Epoch 28/200\n",
            "312/312 - 1s - loss: 0.0028 - accuracy: 1.0000 - val_loss: 3.1608e-13 - val_accuracy: 1.0000 - 988ms/epoch - 3ms/step\n",
            "Epoch 29/200\n",
            "312/312 - 1s - loss: 0.0024 - accuracy: 1.0000 - val_loss: 2.5849e-13 - val_accuracy: 1.0000 - 950ms/epoch - 3ms/step\n",
            "Epoch 30/200\n",
            "312/312 - 1s - loss: 0.0023 - accuracy: 1.0000 - val_loss: 2.4050e-13 - val_accuracy: 1.0000 - 627ms/epoch - 2ms/step\n",
            "Epoch 31/200\n",
            "312/312 - 1s - loss: 0.0023 - accuracy: 1.0000 - val_loss: 2.1660e-13 - val_accuracy: 1.0000 - 643ms/epoch - 2ms/step\n",
            "Epoch 32/200\n",
            "312/312 - 1s - loss: 0.0031 - accuracy: 1.0000 - val_loss: 1.5195e-13 - val_accuracy: 1.0000 - 699ms/epoch - 2ms/step\n",
            "Epoch 33/200\n",
            "312/312 - 1s - loss: 0.0026 - accuracy: 1.0000 - val_loss: 1.3363e-13 - val_accuracy: 1.0000 - 694ms/epoch - 2ms/step\n",
            "Epoch 34/200\n",
            "312/312 - 1s - loss: 0.0022 - accuracy: 1.0000 - val_loss: 1.0304e-13 - val_accuracy: 1.0000 - 764ms/epoch - 2ms/step\n",
            "Epoch 35/200\n",
            "312/312 - 1s - loss: 0.0020 - accuracy: 1.0000 - val_loss: 5.8984e-14 - val_accuracy: 1.0000 - 684ms/epoch - 2ms/step\n",
            "Epoch 36/200\n",
            "312/312 - 1s - loss: 0.0020 - accuracy: 1.0000 - val_loss: 4.4046e-14 - val_accuracy: 1.0000 - 677ms/epoch - 2ms/step\n",
            "Epoch 37/200\n",
            "312/312 - 1s - loss: 0.0026 - accuracy: 1.0000 - val_loss: 3.2337e-14 - val_accuracy: 1.0000 - 706ms/epoch - 2ms/step\n",
            "Epoch 38/200\n",
            "312/312 - 1s - loss: 0.0011 - accuracy: 1.0000 - val_loss: 2.4143e-14 - val_accuracy: 1.0000 - 662ms/epoch - 2ms/step\n",
            "Epoch 39/200\n",
            "312/312 - 1s - loss: 0.0014 - accuracy: 1.0000 - val_loss: 2.1797e-14 - val_accuracy: 1.0000 - 684ms/epoch - 2ms/step\n",
            "Epoch 40/200\n",
            "312/312 - 1s - loss: 0.0011 - accuracy: 1.0000 - val_loss: 1.7207e-14 - val_accuracy: 1.0000 - 693ms/epoch - 2ms/step\n",
            "Epoch 41/200\n",
            "312/312 - 1s - loss: 0.0013 - accuracy: 1.0000 - val_loss: 1.5581e-14 - val_accuracy: 1.0000 - 709ms/epoch - 2ms/step\n",
            "Epoch 42/200\n",
            "312/312 - 1s - loss: 0.0016 - accuracy: 1.0000 - val_loss: 1.3435e-14 - val_accuracy: 1.0000 - 681ms/epoch - 2ms/step\n",
            "Epoch 43/200\n",
            "312/312 - 1s - loss: 9.5523e-04 - accuracy: 1.0000 - val_loss: 1.0570e-14 - val_accuracy: 1.0000 - 688ms/epoch - 2ms/step\n",
            "Epoch 44/200\n",
            "312/312 - 1s - loss: 8.0531e-04 - accuracy: 1.0000 - val_loss: 9.9174e-15 - val_accuracy: 1.0000 - 958ms/epoch - 3ms/step\n",
            "Epoch 45/200\n",
            "312/312 - 1s - loss: 0.0011 - accuracy: 1.0000 - val_loss: 7.4131e-15 - val_accuracy: 1.0000 - 989ms/epoch - 3ms/step\n",
            "Epoch 46/200\n",
            "312/312 - 1s - loss: 4.3764e-04 - accuracy: 1.0000 - val_loss: 6.5568e-15 - val_accuracy: 1.0000 - 1s/epoch - 3ms/step\n",
            "Epoch 47/200\n",
            "312/312 - 1s - loss: 0.0011 - accuracy: 1.0000 - val_loss: 3.3768e-15 - val_accuracy: 1.0000 - 684ms/epoch - 2ms/step\n",
            "Epoch 48/200\n",
            "312/312 - 1s - loss: 3.9410e-04 - accuracy: 1.0000 - val_loss: 2.2343e-15 - val_accuracy: 1.0000 - 697ms/epoch - 2ms/step\n",
            "Epoch 49/200\n",
            "312/312 - 1s - loss: 9.5739e-04 - accuracy: 1.0000 - val_loss: 1.4912e-15 - val_accuracy: 1.0000 - 662ms/epoch - 2ms/step\n",
            "Epoch 50/200\n",
            "312/312 - 1s - loss: 7.0152e-04 - accuracy: 1.0000 - val_loss: 1.4048e-15 - val_accuracy: 1.0000 - 671ms/epoch - 2ms/step\n",
            "Epoch 51/200\n",
            "312/312 - 1s - loss: 8.4092e-04 - accuracy: 1.0000 - val_loss: 6.8427e-16 - val_accuracy: 1.0000 - 682ms/epoch - 2ms/step\n",
            "Epoch 52/200\n",
            "312/312 - 1s - loss: 8.4979e-04 - accuracy: 1.0000 - val_loss: 3.4288e-16 - val_accuracy: 1.0000 - 727ms/epoch - 2ms/step\n",
            "Epoch 53/200\n",
            "312/312 - 1s - loss: 7.8938e-04 - accuracy: 1.0000 - val_loss: 2.7334e-16 - val_accuracy: 1.0000 - 753ms/epoch - 2ms/step\n",
            "Epoch 54/200\n",
            "312/312 - 1s - loss: 9.0202e-04 - accuracy: 1.0000 - val_loss: 2.0003e-16 - val_accuracy: 1.0000 - 719ms/epoch - 2ms/step\n",
            "Epoch 55/200\n",
            "312/312 - 1s - loss: 3.8278e-04 - accuracy: 1.0000 - val_loss: 1.6840e-16 - val_accuracy: 1.0000 - 761ms/epoch - 2ms/step\n",
            "Epoch 56/200\n",
            "312/312 - 1s - loss: 5.2185e-04 - accuracy: 1.0000 - val_loss: 1.2516e-16 - val_accuracy: 1.0000 - 709ms/epoch - 2ms/step\n",
            "Epoch 57/200\n",
            "312/312 - 1s - loss: 5.4066e-04 - accuracy: 1.0000 - val_loss: 1.1097e-16 - val_accuracy: 1.0000 - 674ms/epoch - 2ms/step\n",
            "Epoch 58/200\n",
            "312/312 - 1s - loss: 4.6266e-04 - accuracy: 1.0000 - val_loss: 7.6176e-17 - val_accuracy: 1.0000 - 689ms/epoch - 2ms/step\n",
            "Epoch 59/200\n",
            "312/312 - 1s - loss: 5.2182e-04 - accuracy: 1.0000 - val_loss: 4.2246e-17 - val_accuracy: 1.0000 - 639ms/epoch - 2ms/step\n",
            "Epoch 60/200\n",
            "312/312 - 1s - loss: 3.2831e-04 - accuracy: 1.0000 - val_loss: 3.9439e-17 - val_accuracy: 1.0000 - 746ms/epoch - 2ms/step\n",
            "Epoch 61/200\n",
            "312/312 - 1s - loss: 3.3230e-04 - accuracy: 1.0000 - val_loss: 3.4233e-17 - val_accuracy: 1.0000 - 982ms/epoch - 3ms/step\n",
            "Epoch 62/200\n",
            "312/312 - 1s - loss: 2.7937e-04 - accuracy: 1.0000 - val_loss: 2.0654e-17 - val_accuracy: 1.0000 - 1s/epoch - 4ms/step\n",
            "Epoch 63/200\n",
            "312/312 - 1s - loss: 3.0151e-04 - accuracy: 1.0000 - val_loss: 1.7639e-17 - val_accuracy: 1.0000 - 775ms/epoch - 2ms/step\n",
            "Epoch 64/200\n",
            "312/312 - 1s - loss: 2.6953e-04 - accuracy: 1.0000 - val_loss: 1.3732e-17 - val_accuracy: 1.0000 - 647ms/epoch - 2ms/step\n",
            "Epoch 65/200\n",
            "312/312 - 1s - loss: 2.0905e-04 - accuracy: 1.0000 - val_loss: 1.1557e-17 - val_accuracy: 1.0000 - 643ms/epoch - 2ms/step\n",
            "Epoch 66/200\n",
            "312/312 - 1s - loss: 3.0466e-04 - accuracy: 1.0000 - val_loss: 8.5556e-18 - val_accuracy: 1.0000 - 693ms/epoch - 2ms/step\n",
            "Epoch 67/200\n",
            "312/312 - 1s - loss: 2.7175e-04 - accuracy: 1.0000 - val_loss: 7.5372e-18 - val_accuracy: 1.0000 - 664ms/epoch - 2ms/step\n",
            "Epoch 68/200\n",
            "312/312 - 1s - loss: 1.7657e-04 - accuracy: 1.0000 - val_loss: 5.7212e-18 - val_accuracy: 1.0000 - 686ms/epoch - 2ms/step\n",
            "Epoch 69/200\n",
            "312/312 - 1s - loss: 1.9439e-04 - accuracy: 1.0000 - val_loss: 2.2239e-18 - val_accuracy: 1.0000 - 1s/epoch - 4ms/step\n",
            "Epoch 70/200\n",
            "312/312 - 1s - loss: 2.3276e-04 - accuracy: 1.0000 - val_loss: 1.9081e-18 - val_accuracy: 1.0000 - 1s/epoch - 4ms/step\n",
            "Epoch 71/200\n",
            "312/312 - 1s - loss: 1.7324e-04 - accuracy: 1.0000 - val_loss: 1.7295e-18 - val_accuracy: 1.0000 - 1s/epoch - 4ms/step\n",
            "Epoch 72/200\n",
            "312/312 - 1s - loss: 1.7557e-04 - accuracy: 1.0000 - val_loss: 7.2319e-19 - val_accuracy: 1.0000 - 626ms/epoch - 2ms/step\n",
            "Epoch 73/200\n",
            "312/312 - 1s - loss: 2.1661e-04 - accuracy: 1.0000 - val_loss: 3.7153e-19 - val_accuracy: 1.0000 - 678ms/epoch - 2ms/step\n",
            "Epoch 74/200\n",
            "312/312 - 1s - loss: 2.2092e-04 - accuracy: 1.0000 - val_loss: 2.3177e-19 - val_accuracy: 1.0000 - 714ms/epoch - 2ms/step\n",
            "Epoch 75/200\n",
            "312/312 - 1s - loss: 1.3556e-04 - accuracy: 1.0000 - val_loss: 2.1928e-19 - val_accuracy: 1.0000 - 618ms/epoch - 2ms/step\n",
            "Epoch 76/200\n",
            "312/312 - 1s - loss: 1.4593e-04 - accuracy: 1.0000 - val_loss: 1.3486e-19 - val_accuracy: 1.0000 - 938ms/epoch - 3ms/step\n",
            "Epoch 77/200\n",
            "312/312 - 1s - loss: 1.7748e-04 - accuracy: 1.0000 - val_loss: 1.2596e-19 - val_accuracy: 1.0000 - 977ms/epoch - 3ms/step\n",
            "Epoch 78/200\n",
            "312/312 - 1s - loss: 1.7286e-04 - accuracy: 1.0000 - val_loss: 1.0736e-19 - val_accuracy: 1.0000 - 1s/epoch - 4ms/step\n",
            "Epoch 79/200\n",
            "312/312 - 1s - loss: 1.0630e-04 - accuracy: 1.0000 - val_loss: 8.6301e-20 - val_accuracy: 1.0000 - 751ms/epoch - 2ms/step\n",
            "Epoch 80/200\n",
            "312/312 - 1s - loss: 8.1520e-05 - accuracy: 1.0000 - val_loss: 7.4510e-20 - val_accuracy: 1.0000 - 763ms/epoch - 2ms/step\n",
            "Epoch 81/200\n",
            "312/312 - 1s - loss: 1.0388e-04 - accuracy: 1.0000 - val_loss: 7.0657e-20 - val_accuracy: 1.0000 - 736ms/epoch - 2ms/step\n",
            "Epoch 82/200\n",
            "312/312 - 1s - loss: 1.3417e-04 - accuracy: 1.0000 - val_loss: 6.5737e-20 - val_accuracy: 1.0000 - 743ms/epoch - 2ms/step\n",
            "Epoch 83/200\n",
            "312/312 - 1s - loss: 8.6086e-05 - accuracy: 1.0000 - val_loss: 6.2741e-20 - val_accuracy: 1.0000 - 903ms/epoch - 3ms/step\n",
            "Epoch 84/200\n",
            "312/312 - 1s - loss: 1.0844e-04 - accuracy: 1.0000 - val_loss: 5.8731e-20 - val_accuracy: 1.0000 - 872ms/epoch - 3ms/step\n",
            "Epoch 85/200\n",
            "312/312 - 1s - loss: 5.6648e-05 - accuracy: 1.0000 - val_loss: 5.6720e-20 - val_accuracy: 1.0000 - 1s/epoch - 4ms/step\n",
            "Epoch 86/200\n",
            "312/312 - 1s - loss: 1.1204e-04 - accuracy: 1.0000 - val_loss: 5.2335e-20 - val_accuracy: 1.0000 - 718ms/epoch - 2ms/step\n",
            "Epoch 87/200\n",
            "312/312 - 1s - loss: 8.1845e-05 - accuracy: 1.0000 - val_loss: 4.9322e-20 - val_accuracy: 1.0000 - 643ms/epoch - 2ms/step\n",
            "Epoch 88/200\n",
            "312/312 - 1s - loss: 1.0621e-04 - accuracy: 1.0000 - val_loss: 4.5591e-20 - val_accuracy: 1.0000 - 636ms/epoch - 2ms/step\n",
            "Epoch 89/200\n",
            "312/312 - 1s - loss: 7.5388e-05 - accuracy: 1.0000 - val_loss: 3.5148e-20 - val_accuracy: 1.0000 - 672ms/epoch - 2ms/step\n",
            "Epoch 90/200\n",
            "312/312 - 1s - loss: 5.2775e-05 - accuracy: 1.0000 - val_loss: 2.7378e-20 - val_accuracy: 1.0000 - 707ms/epoch - 2ms/step\n",
            "Epoch 91/200\n",
            "312/312 - 1s - loss: 8.1781e-05 - accuracy: 1.0000 - val_loss: 2.5526e-20 - val_accuracy: 1.0000 - 780ms/epoch - 2ms/step\n",
            "Epoch 92/200\n",
            "312/312 - 1s - loss: 8.5659e-05 - accuracy: 1.0000 - val_loss: 2.3576e-20 - val_accuracy: 1.0000 - 1s/epoch - 3ms/step\n",
            "Epoch 93/200\n",
            "312/312 - 1s - loss: 5.8440e-05 - accuracy: 1.0000 - val_loss: 2.2238e-20 - val_accuracy: 1.0000 - 1s/epoch - 4ms/step\n",
            "Epoch 94/200\n",
            "312/312 - 1s - loss: 3.5224e-05 - accuracy: 1.0000 - val_loss: 2.1394e-20 - val_accuracy: 1.0000 - 740ms/epoch - 2ms/step\n",
            "Epoch 95/200\n",
            "312/312 - 1s - loss: 4.2208e-05 - accuracy: 1.0000 - val_loss: 2.0407e-20 - val_accuracy: 1.0000 - 681ms/epoch - 2ms/step\n",
            "Epoch 96/200\n",
            "312/312 - 1s - loss: 5.3219e-05 - accuracy: 1.0000 - val_loss: 1.9114e-20 - val_accuracy: 1.0000 - 703ms/epoch - 2ms/step\n",
            "Epoch 97/200\n",
            "312/312 - 1s - loss: 3.5267e-05 - accuracy: 1.0000 - val_loss: 1.8320e-20 - val_accuracy: 1.0000 - 644ms/epoch - 2ms/step\n",
            "Epoch 98/200\n",
            "312/312 - 1s - loss: 3.3687e-05 - accuracy: 1.0000 - val_loss: 1.7432e-20 - val_accuracy: 1.0000 - 685ms/epoch - 2ms/step\n",
            "Epoch 99/200\n",
            "312/312 - 1s - loss: 6.5094e-05 - accuracy: 1.0000 - val_loss: 1.5917e-20 - val_accuracy: 1.0000 - 704ms/epoch - 2ms/step\n",
            "Epoch 100/200\n",
            "312/312 - 1s - loss: 3.9530e-05 - accuracy: 1.0000 - val_loss: 1.0965e-20 - val_accuracy: 1.0000 - 656ms/epoch - 2ms/step\n",
            "Epoch 101/200\n",
            "312/312 - 1s - loss: 3.1508e-05 - accuracy: 1.0000 - val_loss: 1.0401e-20 - val_accuracy: 1.0000 - 676ms/epoch - 2ms/step\n",
            "Epoch 102/200\n",
            "312/312 - 1s - loss: 3.7272e-05 - accuracy: 1.0000 - val_loss: 9.7618e-21 - val_accuracy: 1.0000 - 700ms/epoch - 2ms/step\n",
            "Epoch 103/200\n",
            "312/312 - 1s - loss: 2.4712e-05 - accuracy: 1.0000 - val_loss: 9.3317e-21 - val_accuracy: 1.0000 - 690ms/epoch - 2ms/step\n",
            "Epoch 104/200\n",
            "312/312 - 1s - loss: 2.5259e-05 - accuracy: 1.0000 - val_loss: 8.9136e-21 - val_accuracy: 1.0000 - 678ms/epoch - 2ms/step\n",
            "Epoch 105/200\n",
            "312/312 - 1s - loss: 3.0229e-05 - accuracy: 1.0000 - val_loss: 8.3658e-21 - val_accuracy: 1.0000 - 711ms/epoch - 2ms/step\n",
            "Epoch 106/200\n",
            "312/312 - 1s - loss: 2.8373e-05 - accuracy: 1.0000 - val_loss: 7.8348e-21 - val_accuracy: 1.0000 - 661ms/epoch - 2ms/step\n",
            "Epoch 107/200\n",
            "312/312 - 1s - loss: 2.3926e-05 - accuracy: 1.0000 - val_loss: 7.4252e-21 - val_accuracy: 1.0000 - 714ms/epoch - 2ms/step\n",
            "Epoch 108/200\n",
            "312/312 - 1s - loss: 2.6515e-05 - accuracy: 1.0000 - val_loss: 6.9333e-21 - val_accuracy: 1.0000 - 739ms/epoch - 2ms/step\n",
            "Epoch 109/200\n",
            "312/312 - 1s - loss: 3.5590e-05 - accuracy: 1.0000 - val_loss: 6.3649e-21 - val_accuracy: 1.0000 - 1s/epoch - 3ms/step\n",
            "Epoch 110/200\n",
            "312/312 - 1s - loss: 1.4950e-05 - accuracy: 1.0000 - val_loss: 6.1054e-21 - val_accuracy: 1.0000 - 1s/epoch - 3ms/step\n",
            "Epoch 111/200\n",
            "312/312 - 1s - loss: 2.6086e-05 - accuracy: 1.0000 - val_loss: 5.6619e-21 - val_accuracy: 1.0000 - 781ms/epoch - 3ms/step\n",
            "Epoch 112/200\n",
            "312/312 - 1s - loss: 1.6360e-05 - accuracy: 1.0000 - val_loss: 5.3964e-21 - val_accuracy: 1.0000 - 664ms/epoch - 2ms/step\n",
            "Epoch 113/200\n",
            "312/312 - 1s - loss: 2.0311e-05 - accuracy: 1.0000 - val_loss: 5.0709e-21 - val_accuracy: 1.0000 - 650ms/epoch - 2ms/step\n",
            "Epoch 114/200\n",
            "312/312 - 1s - loss: 2.1706e-05 - accuracy: 1.0000 - val_loss: 4.7216e-21 - val_accuracy: 1.0000 - 687ms/epoch - 2ms/step\n",
            "Epoch 115/200\n",
            "312/312 - 1s - loss: 1.6112e-05 - accuracy: 1.0000 - val_loss: 4.4710e-21 - val_accuracy: 1.0000 - 644ms/epoch - 2ms/step\n",
            "Epoch 116/200\n",
            "312/312 - 1s - loss: 1.5214e-05 - accuracy: 1.0000 - val_loss: 4.2029e-21 - val_accuracy: 1.0000 - 733ms/epoch - 2ms/step\n",
            "Epoch 117/200\n",
            "312/312 - 1s - loss: 1.0652e-05 - accuracy: 1.0000 - val_loss: 4.0249e-21 - val_accuracy: 1.0000 - 649ms/epoch - 2ms/step\n",
            "Epoch 118/200\n",
            "312/312 - 1s - loss: 1.3732e-05 - accuracy: 1.0000 - val_loss: 3.7932e-21 - val_accuracy: 1.0000 - 694ms/epoch - 2ms/step\n",
            "Epoch 119/200\n",
            "312/312 - 1s - loss: 1.0953e-05 - accuracy: 1.0000 - val_loss: 3.6059e-21 - val_accuracy: 1.0000 - 715ms/epoch - 2ms/step\n",
            "Epoch 120/200\n",
            "312/312 - 1s - loss: 1.3557e-05 - accuracy: 1.0000 - val_loss: 3.3858e-21 - val_accuracy: 1.0000 - 647ms/epoch - 2ms/step\n",
            "Epoch 121/200\n",
            "312/312 - 1s - loss: 1.2705e-05 - accuracy: 1.0000 - val_loss: 3.1739e-21 - val_accuracy: 1.0000 - 632ms/epoch - 2ms/step\n",
            "Epoch 122/200\n",
            "312/312 - 1s - loss: 1.1862e-05 - accuracy: 1.0000 - val_loss: 2.9587e-21 - val_accuracy: 1.0000 - 678ms/epoch - 2ms/step\n",
            "Epoch 123/200\n",
            "312/312 - 1s - loss: 9.0590e-06 - accuracy: 1.0000 - val_loss: 2.8104e-21 - val_accuracy: 1.0000 - 666ms/epoch - 2ms/step\n",
            "Epoch 124/200\n",
            "312/312 - 1s - loss: 1.0075e-05 - accuracy: 1.0000 - val_loss: 2.6384e-21 - val_accuracy: 1.0000 - 764ms/epoch - 2ms/step\n",
            "Epoch 125/200\n",
            "312/312 - 1s - loss: 8.5459e-06 - accuracy: 1.0000 - val_loss: 2.5005e-21 - val_accuracy: 1.0000 - 752ms/epoch - 2ms/step\n",
            "Epoch 126/200\n",
            "312/312 - 1s - loss: 8.5112e-06 - accuracy: 1.0000 - val_loss: 2.3500e-21 - val_accuracy: 1.0000 - 1s/epoch - 4ms/step\n",
            "Epoch 127/200\n",
            "312/312 - 1s - loss: 8.0199e-06 - accuracy: 1.0000 - val_loss: 2.2173e-21 - val_accuracy: 1.0000 - 1s/epoch - 3ms/step\n",
            "Epoch 128/200\n",
            "312/312 - 1s - loss: 4.8221e-06 - accuracy: 1.0000 - val_loss: 2.1333e-21 - val_accuracy: 1.0000 - 870ms/epoch - 3ms/step\n",
            "Epoch 129/200\n",
            "312/312 - 1s - loss: 7.2646e-06 - accuracy: 1.0000 - val_loss: 2.0025e-21 - val_accuracy: 1.0000 - 730ms/epoch - 2ms/step\n",
            "Epoch 130/200\n",
            "312/312 - 1s - loss: 8.9033e-06 - accuracy: 1.0000 - val_loss: 1.8515e-21 - val_accuracy: 1.0000 - 755ms/epoch - 2ms/step\n",
            "Epoch 131/200\n",
            "312/312 - 1s - loss: 7.2832e-06 - accuracy: 1.0000 - val_loss: 1.7277e-21 - val_accuracy: 1.0000 - 658ms/epoch - 2ms/step\n",
            "Epoch 132/200\n",
            "312/312 - 1s - loss: 5.9007e-06 - accuracy: 1.0000 - val_loss: 1.6354e-21 - val_accuracy: 1.0000 - 738ms/epoch - 2ms/step\n",
            "Epoch 133/200\n",
            "312/312 - 1s - loss: 7.2671e-06 - accuracy: 1.0000 - val_loss: 1.5117e-21 - val_accuracy: 1.0000 - 669ms/epoch - 2ms/step\n",
            "Epoch 134/200\n",
            "312/312 - 1s - loss: 5.1697e-06 - accuracy: 1.0000 - val_loss: 1.4276e-21 - val_accuracy: 1.0000 - 720ms/epoch - 2ms/step\n",
            "Epoch 135/200\n",
            "312/312 - 1s - loss: 4.8788e-06 - accuracy: 1.0000 - val_loss: 1.3493e-21 - val_accuracy: 1.0000 - 738ms/epoch - 2ms/step\n",
            "Epoch 136/200\n",
            "312/312 - 1s - loss: 4.1314e-06 - accuracy: 1.0000 - val_loss: 1.2781e-21 - val_accuracy: 1.0000 - 674ms/epoch - 2ms/step\n",
            "Epoch 137/200\n",
            "312/312 - 1s - loss: 5.2558e-06 - accuracy: 1.0000 - val_loss: 1.1909e-21 - val_accuracy: 1.0000 - 716ms/epoch - 2ms/step\n",
            "Epoch 138/200\n",
            "312/312 - 1s - loss: 4.2797e-06 - accuracy: 1.0000 - val_loss: 1.1220e-21 - val_accuracy: 1.0000 - 708ms/epoch - 2ms/step\n",
            "Epoch 139/200\n",
            "312/312 - 1s - loss: 5.3893e-06 - accuracy: 1.0000 - val_loss: 1.0410e-21 - val_accuracy: 1.0000 - 689ms/epoch - 2ms/step\n",
            "Epoch 140/200\n",
            "312/312 - 1s - loss: 3.3510e-06 - accuracy: 1.0000 - val_loss: 9.8145e-22 - val_accuracy: 1.0000 - 701ms/epoch - 2ms/step\n",
            "Epoch 141/200\n",
            "312/312 - 1s - loss: 4.0360e-06 - accuracy: 1.0000 - val_loss: 9.1825e-22 - val_accuracy: 1.0000 - 667ms/epoch - 2ms/step\n",
            "Epoch 142/200\n",
            "312/312 - 1s - loss: 3.4517e-06 - accuracy: 1.0000 - val_loss: 8.6280e-22 - val_accuracy: 1.0000 - 1s/epoch - 3ms/step\n",
            "Epoch 143/200\n",
            "312/312 - 1s - loss: 3.3980e-06 - accuracy: 1.0000 - val_loss: 8.0863e-22 - val_accuracy: 1.0000 - 1s/epoch - 4ms/step\n",
            "Epoch 144/200\n",
            "312/312 - 1s - loss: 3.0493e-06 - accuracy: 1.0000 - val_loss: 7.6135e-22 - val_accuracy: 1.0000 - 802ms/epoch - 3ms/step\n",
            "Epoch 145/200\n",
            "312/312 - 1s - loss: 2.8714e-06 - accuracy: 1.0000 - val_loss: 7.1768e-22 - val_accuracy: 1.0000 - 666ms/epoch - 2ms/step\n",
            "Epoch 146/200\n",
            "312/312 - 1s - loss: 2.3230e-06 - accuracy: 1.0000 - val_loss: 6.7945e-22 - val_accuracy: 1.0000 - 711ms/epoch - 2ms/step\n",
            "Epoch 147/200\n",
            "312/312 - 1s - loss: 2.5580e-06 - accuracy: 1.0000 - val_loss: 6.3829e-22 - val_accuracy: 1.0000 - 669ms/epoch - 2ms/step\n",
            "Epoch 148/200\n",
            "312/312 - 1s - loss: 2.8453e-06 - accuracy: 1.0000 - val_loss: 5.9452e-22 - val_accuracy: 1.0000 - 708ms/epoch - 2ms/step\n",
            "Epoch 149/200\n",
            "312/312 - 1s - loss: 1.3977e-06 - accuracy: 1.0000 - val_loss: 5.7074e-22 - val_accuracy: 1.0000 - 737ms/epoch - 2ms/step\n",
            "Epoch 150/200\n",
            "312/312 - 1s - loss: 1.8480e-06 - accuracy: 1.0000 - val_loss: 5.3948e-22 - val_accuracy: 1.0000 - 656ms/epoch - 2ms/step\n",
            "Epoch 151/200\n",
            "312/312 - 1s - loss: 9.8316e-07 - accuracy: 1.0000 - val_loss: 5.2266e-22 - val_accuracy: 1.0000 - 697ms/epoch - 2ms/step\n",
            "Epoch 152/200\n",
            "312/312 - 1s - loss: 1.0448e-06 - accuracy: 1.0000 - val_loss: 5.0385e-22 - val_accuracy: 1.0000 - 651ms/epoch - 2ms/step\n",
            "Epoch 153/200\n",
            "312/312 - 1s - loss: 1.8042e-06 - accuracy: 1.0000 - val_loss: 4.7125e-22 - val_accuracy: 1.0000 - 698ms/epoch - 2ms/step\n",
            "Epoch 154/200\n",
            "312/312 - 1s - loss: 1.2744e-06 - accuracy: 1.0000 - val_loss: 4.4786e-22 - val_accuracy: 1.0000 - 655ms/epoch - 2ms/step\n",
            "Epoch 155/200\n",
            "312/312 - 1s - loss: 1.2890e-06 - accuracy: 1.0000 - val_loss: 4.2329e-22 - val_accuracy: 1.0000 - 656ms/epoch - 2ms/step\n",
            "Epoch 156/200\n",
            "312/312 - 1s - loss: 9.9714e-07 - accuracy: 1.0000 - val_loss: 4.0486e-22 - val_accuracy: 1.0000 - 653ms/epoch - 2ms/step\n",
            "Epoch 157/200\n",
            "312/312 - 1s - loss: 1.6607e-06 - accuracy: 1.0000 - val_loss: 3.7485e-22 - val_accuracy: 1.0000 - 657ms/epoch - 2ms/step\n",
            "Epoch 158/200\n",
            "312/312 - 1s - loss: 1.2788e-06 - accuracy: 1.0000 - val_loss: 3.5226e-22 - val_accuracy: 1.0000 - 691ms/epoch - 2ms/step\n",
            "Epoch 159/200\n",
            "312/312 - 1s - loss: 1.3251e-06 - accuracy: 1.0000 - val_loss: 3.2924e-22 - val_accuracy: 1.0000 - 1s/epoch - 4ms/step\n",
            "Epoch 160/200\n",
            "312/312 - 1s - loss: 1.1820e-06 - accuracy: 1.0000 - val_loss: 3.0972e-22 - val_accuracy: 1.0000 - 1s/epoch - 4ms/step\n",
            "Epoch 161/200\n",
            "312/312 - 1s - loss: 8.3879e-07 - accuracy: 1.0000 - val_loss: 2.9537e-22 - val_accuracy: 1.0000 - 748ms/epoch - 2ms/step\n",
            "Epoch 162/200\n",
            "312/312 - 1s - loss: 1.3661e-06 - accuracy: 1.0000 - val_loss: 2.7285e-22 - val_accuracy: 1.0000 - 713ms/epoch - 2ms/step\n",
            "Epoch 163/200\n",
            "312/312 - 1s - loss: 8.3589e-07 - accuracy: 1.0000 - val_loss: 2.6004e-22 - val_accuracy: 1.0000 - 714ms/epoch - 2ms/step\n",
            "Epoch 164/200\n",
            "312/312 - 1s - loss: 1.1550e-06 - accuracy: 1.0000 - val_loss: 2.4171e-22 - val_accuracy: 1.0000 - 734ms/epoch - 2ms/step\n",
            "Epoch 165/200\n",
            "312/312 - 1s - loss: 7.3731e-07 - accuracy: 1.0000 - val_loss: 2.2853e-22 - val_accuracy: 1.0000 - 783ms/epoch - 3ms/step\n",
            "Epoch 166/200\n",
            "312/312 - 1s - loss: 7.0099e-07 - accuracy: 1.0000 - val_loss: 2.1744e-22 - val_accuracy: 1.0000 - 792ms/epoch - 3ms/step\n",
            "Epoch 167/200\n",
            "312/312 - 1s - loss: 7.4230e-07 - accuracy: 1.0000 - val_loss: 2.0531e-22 - val_accuracy: 1.0000 - 687ms/epoch - 2ms/step\n",
            "Epoch 168/200\n",
            "312/312 - 1s - loss: 9.8678e-07 - accuracy: 1.0000 - val_loss: 1.8964e-22 - val_accuracy: 1.0000 - 720ms/epoch - 2ms/step\n",
            "Epoch 169/200\n",
            "312/312 - 1s - loss: 6.1579e-07 - accuracy: 1.0000 - val_loss: 1.8031e-22 - val_accuracy: 1.0000 - 666ms/epoch - 2ms/step\n",
            "Epoch 170/200\n",
            "312/312 - 1s - loss: 4.2500e-07 - accuracy: 1.0000 - val_loss: 1.7344e-22 - val_accuracy: 1.0000 - 726ms/epoch - 2ms/step\n",
            "Epoch 171/200\n",
            "312/312 - 1s - loss: 7.4246e-07 - accuracy: 1.0000 - val_loss: 1.6143e-22 - val_accuracy: 1.0000 - 733ms/epoch - 2ms/step\n",
            "Epoch 172/200\n",
            "312/312 - 1s - loss: 5.5119e-07 - accuracy: 1.0000 - val_loss: 1.5251e-22 - val_accuracy: 1.0000 - 669ms/epoch - 2ms/step\n",
            "Epoch 173/200\n",
            "312/312 - 1s - loss: 5.7491e-07 - accuracy: 1.0000 - val_loss: 1.4400e-22 - val_accuracy: 1.0000 - 731ms/epoch - 2ms/step\n",
            "Epoch 174/200\n",
            "312/312 - 1s - loss: 4.9053e-07 - accuracy: 1.0000 - val_loss: 1.3565e-22 - val_accuracy: 1.0000 - 725ms/epoch - 2ms/step\n",
            "Epoch 175/200\n",
            "312/312 - 1s - loss: 4.3996e-07 - accuracy: 1.0000 - val_loss: 1.2859e-22 - val_accuracy: 1.0000 - 1s/epoch - 4ms/step\n",
            "Epoch 176/200\n",
            "312/312 - 1s - loss: 4.6220e-07 - accuracy: 1.0000 - val_loss: 1.2121e-22 - val_accuracy: 1.0000 - 1s/epoch - 4ms/step\n",
            "Epoch 177/200\n",
            "312/312 - 1s - loss: 3.9322e-07 - accuracy: 1.0000 - val_loss: 1.1534e-22 - val_accuracy: 1.0000 - 845ms/epoch - 3ms/step\n",
            "Epoch 178/200\n",
            "312/312 - 1s - loss: 1.6768e-07 - accuracy: 1.0000 - val_loss: 1.1196e-22 - val_accuracy: 1.0000 - 672ms/epoch - 2ms/step\n",
            "Epoch 179/200\n",
            "312/312 - 1s - loss: 3.6197e-07 - accuracy: 1.0000 - val_loss: 1.0600e-22 - val_accuracy: 1.0000 - 715ms/epoch - 2ms/step\n",
            "Epoch 180/200\n",
            "312/312 - 1s - loss: 2.2982e-07 - accuracy: 1.0000 - val_loss: 1.0147e-22 - val_accuracy: 1.0000 - 773ms/epoch - 2ms/step\n",
            "Epoch 181/200\n",
            "312/312 - 1s - loss: 4.5124e-07 - accuracy: 1.0000 - val_loss: 9.3868e-23 - val_accuracy: 1.0000 - 735ms/epoch - 2ms/step\n",
            "Epoch 182/200\n",
            "312/312 - 1s - loss: 3.5261e-07 - accuracy: 1.0000 - val_loss: 8.7875e-23 - val_accuracy: 1.0000 - 765ms/epoch - 2ms/step\n",
            "Epoch 183/200\n",
            "312/312 - 1s - loss: 2.3811e-07 - accuracy: 1.0000 - val_loss: 8.3922e-23 - val_accuracy: 1.0000 - 703ms/epoch - 2ms/step\n",
            "Epoch 184/200\n",
            "312/312 - 1s - loss: 3.5914e-07 - accuracy: 1.0000 - val_loss: 7.7893e-23 - val_accuracy: 1.0000 - 691ms/epoch - 2ms/step\n",
            "Epoch 185/200\n",
            "312/312 - 1s - loss: 3.0692e-07 - accuracy: 1.0000 - val_loss: 7.3058e-23 - val_accuracy: 1.0000 - 682ms/epoch - 2ms/step\n",
            "Epoch 186/200\n",
            "312/312 - 1s - loss: 2.1102e-07 - accuracy: 1.0000 - val_loss: 6.9620e-23 - val_accuracy: 1.0000 - 669ms/epoch - 2ms/step\n",
            "Epoch 187/200\n",
            "312/312 - 1s - loss: 2.2582e-07 - accuracy: 1.0000 - val_loss: 6.6127e-23 - val_accuracy: 1.0000 - 704ms/epoch - 2ms/step\n",
            "Epoch 188/200\n",
            "312/312 - 1s - loss: 2.1396e-07 - accuracy: 1.0000 - val_loss: 6.2771e-23 - val_accuracy: 1.0000 - 732ms/epoch - 2ms/step\n",
            "Epoch 189/200\n",
            "312/312 - 1s - loss: 2.2492e-07 - accuracy: 1.0000 - val_loss: 5.8994e-23 - val_accuracy: 1.0000 - 697ms/epoch - 2ms/step\n",
            "Epoch 190/200\n",
            "312/312 - 1s - loss: 2.3308e-07 - accuracy: 1.0000 - val_loss: 5.5470e-23 - val_accuracy: 1.0000 - 750ms/epoch - 2ms/step\n",
            "Epoch 191/200\n",
            "312/312 - 1s - loss: 1.8014e-07 - accuracy: 1.0000 - val_loss: 5.2835e-23 - val_accuracy: 1.0000 - 932ms/epoch - 3ms/step\n",
            "Epoch 192/200\n",
            "312/312 - 1s - loss: 1.2453e-07 - accuracy: 1.0000 - val_loss: 5.0806e-23 - val_accuracy: 1.0000 - 1s/epoch - 3ms/step\n",
            "Epoch 193/200\n",
            "312/312 - 1s - loss: 1.5578e-07 - accuracy: 1.0000 - val_loss: 4.8311e-23 - val_accuracy: 1.0000 - 912ms/epoch - 3ms/step\n",
            "Epoch 194/200\n",
            "312/312 - 1s - loss: 1.3098e-07 - accuracy: 1.0000 - val_loss: 4.6379e-23 - val_accuracy: 1.0000 - 724ms/epoch - 2ms/step\n",
            "Epoch 195/200\n",
            "312/312 - 1s - loss: 1.9006e-07 - accuracy: 1.0000 - val_loss: 4.3181e-23 - val_accuracy: 1.0000 - 701ms/epoch - 2ms/step\n",
            "Epoch 196/200\n",
            "312/312 - 1s - loss: 1.8516e-07 - accuracy: 1.0000 - val_loss: 4.0297e-23 - val_accuracy: 1.0000 - 700ms/epoch - 2ms/step\n",
            "Epoch 197/200\n",
            "312/312 - 1s - loss: 1.8031e-07 - accuracy: 1.0000 - val_loss: 3.7673e-23 - val_accuracy: 1.0000 - 684ms/epoch - 2ms/step\n",
            "Epoch 198/200\n",
            "312/312 - 1s - loss: 1.0249e-07 - accuracy: 1.0000 - val_loss: 3.6182e-23 - val_accuracy: 1.0000 - 698ms/epoch - 2ms/step\n",
            "Epoch 199/200\n",
            "312/312 - 1s - loss: 1.0484e-07 - accuracy: 1.0000 - val_loss: 3.4654e-23 - val_accuracy: 1.0000 - 639ms/epoch - 2ms/step\n",
            "Epoch 200/200\n",
            "312/312 - 1s - loss: 8.7893e-08 - accuracy: 1.0000 - val_loss: 3.3354e-23 - val_accuracy: 1.0000 - 714ms/epoch - 2ms/step\n"
          ]
        }
      ]
    },
    {
      "cell_type": "code",
      "source": [
        "# Melihat akurasi dari riwayat pelatihan\n",
        "train_accuracy = history.history['accuracy']\n",
        "val_accuracy = history.history['val_accuracy']"
      ],
      "metadata": {
        "id": "KBeLuXGb7jGh"
      },
      "execution_count": null,
      "outputs": []
    },
    {
      "cell_type": "code",
      "source": [
        "# Melihat grafik akurasi pelatihan dan validasi\n",
        "epochs = range(1, len(train_accuracy) + 1)\n",
        "plt.plot(epochs, train_accuracy, 'r', label='Training Accuracy')\n",
        "plt.plot(epochs, val_accuracy, 'b', label='Validation Accuracy')\n",
        "plt.title('Training and Validation Accuracy')\n",
        "plt.xlabel('Epochs')\n",
        "plt.ylabel('Accuracy')\n",
        "plt.legend()\n",
        "plt.show()"
      ],
      "metadata": {
        "colab": {
          "base_uri": "https://localhost:8080/",
          "height": 472
        },
        "id": "0bEqhIUZ7fE9",
        "outputId": "3bce71ad-ef5b-4eec-baeb-1c088f38a284"
      },
      "execution_count": null,
      "outputs": [
        {
          "output_type": "display_data",
          "data": {
            "text/plain": [
              "<Figure size 640x480 with 1 Axes>"
            ],
            "image/png": "[encoded data removed]"
          },
          "metadata": {}
        }
      ]
    },
    {
      "cell_type": "markdown",
      "source": [
        "## Deployment"
      ],
      "metadata": {
        "id": "mW1kQ9mKgfiR"
      }
    },
    {
      "cell_type": "markdown",
      "source": [
        "## Tensorflowlite"
      ],
      "metadata": {
        "id": "8xlDWmOcPB_S"
      }
    },
    {
      "cell_type": "code",
      "source": [
        "converter = tf.lite.TFLiteConverter.from_keras_model(model)\n",
        "#converter.optimizations = [tf.lite.Optimize.DEFAULT]\n",
        "tflite_model = converter.convert()"
      ],
      "metadata": {
        "id": "f2aWhzcHe_Cf",
        "colab": {
          "base_uri": "https://localhost:8080/"
        },
        "outputId": "906677fb-3a94-4327-cfad-967d7196fb28"
      },
      "execution_count": null,
      "outputs": [
        {
          "output_type": "stream",
          "name": "stderr",
          "text": [
            "WARNING:absl:Found untraced functions such as _update_step_xla while saving (showing 1 of 1). These functions will not be directly callable after loading.\n"
          ]
        }
      ]
    },
    {
      "cell_type": "code",
      "source": [
        "tflite_model_file = 'Soil.tflite'\n",
        "\n",
        "with open(tflite_model_file, \"wb\") as f:\n",
        "    f.write(tflite_model)"
      ],
      "metadata": {
        "id": "B9PjHhYjMKLk"
      },
      "execution_count": null,
      "outputs": []
    },
    {
      "cell_type": "markdown",
      "source": [
        "###Predict test"
      ],
      "metadata": {
        "id": "wWz-wScHeapP"
      }
    },
    {
      "cell_type": "code",
      "source": [
        "with open(\"Soil.tflite\", 'rb') as fid:\n",
        "    tflite_model = fid.read()\n",
        "    \n",
        "interpreter = tf.lite.Interpreter(model_content=tflite_model)\n",
        "interpreter.allocate_tensors()"
      ],
      "metadata": {
        "id": "J6cvtaNiPH8y"
      },
      "execution_count": null,
      "outputs": []
    },
    {
      "cell_type": "code",
      "source": [
        "input_details = interpreter.get_input_details()\n",
        "output_details = interpreter.get_output_details()"
      ],
      "metadata": {
        "id": "TEnJ1C-fhBRT"
      },
      "execution_count": null,
      "outputs": []
    },
    {
      "cell_type": "code",
      "source": [
        "input_data = np.array([[78.0,80.0,88.0,53.0]])  # Include values for all 8 input features\n"
      ],
      "metadata": {
        "id": "gDxG4xuzhM6Y"
      },
      "execution_count": null,
      "outputs": []
    },
    {
      "cell_type": "code",
      "source": [
        "#classification function\n",
        "def classify_Soil_tflite(model_path, data): #model_path:lokasi tflitenya, data = array isinya variabelnya\n",
        "    # Load the TFLite model\n",
        "    interpreter = tf.lite.Interpreter(model_path=model_path)\n",
        "    interpreter.allocate_tensors()\n",
        "\n",
        "    # Get input and output details\n",
        "    input_details = interpreter.get_input_details()\n",
        "    output_details = interpreter.get_output_details()\n",
        "    \n",
        "    #convert data type to float32\n",
        "    data = data.astype(np.float32)\n",
        "\n",
        "    # Set the input tensor data\n",
        "    interpreter.set_tensor(input_details[0]['index'], data)\n",
        "\n",
        "    # Run inference\n",
        "    interpreter.invoke()\n",
        "\n",
        "    # Get the output tensor data\n",
        "    predictions = interpreter.get_tensor(output_details[0]['index'])\n",
        "\n",
        "    # Convert predictions to class labels\n",
        "    predicted_classes = np.argmax(predictions, axis=1)\n",
        "\n",
        "    return predicted_classes"
      ],
      "metadata": {
        "id": "sCCqEIpoepPa"
      },
      "execution_count": null,
      "outputs": []
    },
    {
      "cell_type": "code",
      "source": [
        "model_path = '/content/Soil.tflite'\n",
        "input_data = np.array([[25,25,25,25]])  # Include values for all 4 input features\n",
        "input_data = input_data.astype(np.float32)\n",
        "predicted_classes = classify_Soil_tflite(model_path, input_data)\n",
        "\n",
        "print(predicted_classes)"
      ],
      "metadata": {
        "colab": {
          "base_uri": "https://localhost:8080/"
        },
        "id": "NYYzleFlPKzY",
        "outputId": "fb0cec16-768c-4444-cd9d-810c1f820865"
      },
      "execution_count": null,
      "outputs": [
        {
          "output_type": "stream",
          "name": "stdout",
          "text": [
            "[0]\n"
          ]
        }
      ]
    },
    {
      "cell_type": "code",
      "source": [
        "from google.colab import files\n",
        "files.download(\"Soil.tflite\")"
      ],
      "metadata": {
        "colab": {
          "base_uri": "https://localhost:8080/",
          "height": 17
        },
        "id": "WElqdd2yMeJh",
        "outputId": "bdfe4cfc-3f81-430a-c51a-37f68becbef9"
      },
      "execution_count": null,
      "outputs": [
        {
          "output_type": "display_data",
          "data": {
            "text/plain": [
              "<IPython.core.display.Javascript object>"
            ],
            "application/javascript": [
              "\n",
              "    async function download(id, filename, size) {\n",
              "      if (!google.colab.kernel.accessAllowed) {\n",
              "        return;\n",
              "      }\n",
              "      const div = document.createElement('div');\n",
              "      const label = document.createElement('label');\n",
              "      label.textContent = `Downloading \"${filename}\": `;\n",
              "      div.appendChild(label);\n",
              "      const progress = document.createElement('progress');\n",
              "      progress.max = size;\n",
              "      div.appendChild(progress);\n",
              "      document.body.appendChild(div);\n",
              "\n",
              "      const buffers = [];\n",
              "      let downloaded = 0;\n",
              "\n",
              "      const channel = await google.colab.kernel.comms.open(id);\n",
              "      // Send a message to notify the kernel that we're ready.\n",
              "      channel.send({})\n",
              "\n",
              "      for await (const message of channel.messages) {\n",
              "        // Send a message to notify the kernel that we're ready.\n",
              "        channel.send({})\n",
              "        if (message.buffers) {\n",
              "          for (const buffer of message.buffers) {\n",
              "            buffers.push(buffer);\n",
              "            downloaded += buffer.byteLength;\n",
              "            progress.value = downloaded;\n",
              "          }\n",
              "        }\n",
              "      }\n",
              "      const blob = new Blob(buffers, {type: 'application/binary'});\n",
              "      const a = document.createElement('a');\n",
              "      a.href = window.URL.createObjectURL(blob);\n",
              "      a.download = filename;\n",
              "      div.appendChild(a);\n",
              "      a.click();\n",
              "      div.remove();\n",
              "    }\n",
              "  "
            ]
          },
          "metadata": {}
        },
        {
          "output_type": "display_data",
          "data": {
            "text/plain": [
              "<IPython.core.display.Javascript object>"
            ],
            "application/javascript": [
              "download(\"download_81e35fae-7207-4e96-b99c-9895342c0a09\", \"Soil.tflite\", 15200)"
            ]
          },
          "metadata": {}
        }
      ]
    },
    {
      "cell_type": "markdown",
      "source": [
        "## H5"
      ],
      "metadata": {
        "id": "B9zvf4iI_yuT"
      }
    },
    {
      "cell_type": "code",
      "source": [
        "model.save(\"/content/Soil.h5\")"
      ],
      "metadata": {
        "id": "18xutKXfguHi"
      },
      "execution_count": null,
      "outputs": []
    },
    {
      "cell_type": "markdown",
      "source": [
        "### Predict Test"
      ],
      "metadata": {
        "id": "AAU2C8Bxg1zF"
      }
    },
    {
      "cell_type": "code",
      "source": [
        "data_dummy = np.array([[45,42,78,98]])"
      ],
      "metadata": {
        "id": "7MgYC2J2QPQu"
      },
      "execution_count": null,
      "outputs": []
    },
    {
      "cell_type": "code",
      "source": [
        "np.argmax(model.predict(data_dummy))"
      ],
      "metadata": {
        "colab": {
          "base_uri": "https://localhost:8080/"
        },
        "id": "VfXMlehaQPt8",
        "outputId": "65e222c1-5c85-4771-d799-d5330c1104ef"
      },
      "execution_count": null,
      "outputs": [
        {
          "output_type": "stream",
          "name": "stdout",
          "text": [
            "1/1 [==============================] - 1s 589ms/step\n"
          ]
        },
        {
          "output_type": "execute_result",
          "data": {
            "text/plain": [
              "0"
            ]
          },
          "metadata": {},
          "execution_count": 41
        }
      ]
    },
    {
      "cell_type": "code",
      "source": [
        "def Soil(data):\n",
        "  pred = np.argmax(model.predict(data))\n",
        "\n",
        "  if pred == 0:\n",
        "    label  = \"Tidak Sehat\"\n",
        "  elif pred == 1:\n",
        "    label  = \"Kurang Sehat\"\n",
        "  elif pred == 2:\n",
        "    label  = \"Sehat\"\n",
        "\n",
        "  \n",
        "  return label\n"
      ],
      "metadata": {
        "id": "gaIEa8fqQRLe"
      },
      "execution_count": null,
      "outputs": []
    },
    {
      "cell_type": "code",
      "source": [
        "Soil(data_dummy)"
      ],
      "metadata": {
        "colab": {
          "base_uri": "https://localhost:8080/",
          "height": 53
        },
        "id": "ePlofh4lQWY2",
        "outputId": "fc9361e5-165c-4751-fcbf-59bc8944703b"
      },
      "execution_count": null,
      "outputs": [
        {
          "output_type": "stream",
          "name": "stdout",
          "text": [
            "1/1 [==============================] - 0s 79ms/step\n"
          ]
        },
        {
          "output_type": "execute_result",
          "data": {
            "text/plain": [
              "'Tidak Sehat'"
            ],
            "application/vnd.google.colaboratory.intrinsic+json": {
              "type": "string"
            }
          },
          "metadata": {},
          "execution_count": 43
        }
      ]
    }
  ]
}